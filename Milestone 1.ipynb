{
 "cells": [
  {
   "cell_type": "markdown",
   "id": "8ea93153",
   "metadata": {},
   "source": [
    "https://xuanshay.github.io"
   ]
  },
  {
   "cell_type": "markdown",
   "id": "2843b73c",
   "metadata": {},
   "source": [
    "# Project: Video game sales\n",
    "\n",
    "Group Memebers: Yuxuan Zhang, Haowen Weng\n",
    "\n",
    "The project aims to dig into the market of cideo games. The projects investigares tendencies and conclusions about the video game industries.\n"
   ]
  },
  {
   "cell_type": "markdown",
   "id": "4437c73a",
   "metadata": {},
   "source": [
    "---"
   ]
  },
  {
   "cell_type": "markdown",
   "id": "83915239",
   "metadata": {},
   "source": [
    "### Datasets:\n",
    "* Video Games Sales  \n",
    "    * Downloaded from https://www.kaggle.com/gregorut/videogamesales  \n",
    "    * The dataset contains a list of video games with sales greater than 100,000 copies. The release year of the games are between 1980 and 2020\n",
    "* Steam database\n",
    "    * Scraped from https://store.steampowered.com/stats/\n",
    "    * The website introduced games with most steam users. It includes both current players and the peak of the day."
   ]
  },
  {
   "cell_type": "markdown",
   "id": "f6ae7645",
   "metadata": {},
   "source": [
    "---"
   ]
  },
  {
   "cell_type": "markdown",
   "id": "7ffba27e",
   "metadata": {},
   "source": [
    "### Purpose and Questions:\n",
    "* How does the shares of the market between different companies change during the past decade?\n",
    "* Is there a difference in consumer's preference throughout different regions?\n",
    "* The different in size of the market of different platforms.\n"
   ]
  },
  {
   "cell_type": "markdown",
   "id": "63c8d472",
   "metadata": {},
   "source": [
    "---"
   ]
  },
  {
   "cell_type": "markdown",
   "id": "22bcc2b2",
   "metadata": {},
   "source": [
    "## Data Generalization, Extraction, Transfrom, and Load"
   ]
  },
  {
   "cell_type": "code",
   "execution_count": 1,
   "id": "7fe1f26d",
   "metadata": {
    "collapsed": true
   },
   "outputs": [
    {
     "name": "stdout",
     "output_type": "stream",
     "text": [
      "Defaulting to user installation because normal site-packages is not writeable\n",
      "Requirement already satisfied: beautifulsoup4 in /Library/Frameworks/Python.framework/Versions/3.9/lib/python3.9/site-packages (4.10.0)\n",
      "Requirement already satisfied: soupsieve>1.2 in /Library/Frameworks/Python.framework/Versions/3.9/lib/python3.9/site-packages (from beautifulsoup4) (2.2.1)\n",
      "Defaulting to user installation because normal site-packages is not writeable\n",
      "Requirement already satisfied: requests in /Library/Frameworks/Python.framework/Versions/3.9/lib/python3.9/site-packages (2.26.0)\n",
      "Requirement already satisfied: charset-normalizer~=2.0.0 in /Library/Frameworks/Python.framework/Versions/3.9/lib/python3.9/site-packages (from requests) (2.0.7)\n",
      "Requirement already satisfied: urllib3<1.27,>=1.21.1 in /Library/Frameworks/Python.framework/Versions/3.9/lib/python3.9/site-packages (from requests) (1.26.7)\n",
      "Requirement already satisfied: idna<4,>=2.5 in /Library/Frameworks/Python.framework/Versions/3.9/lib/python3.9/site-packages (from requests) (3.3)\n",
      "Requirement already satisfied: certifi>=2017.4.17 in /Library/Frameworks/Python.framework/Versions/3.9/lib/python3.9/site-packages (from requests) (2021.10.8)\n",
      "Defaulting to user installation because normal site-packages is not writeable\n",
      "Requirement already satisfied: pandas in /Library/Frameworks/Python.framework/Versions/3.9/lib/python3.9/site-packages (1.3.4)\n",
      "Requirement already satisfied: python-dateutil>=2.7.3 in /Library/Frameworks/Python.framework/Versions/3.9/lib/python3.9/site-packages (from pandas) (2.8.2)\n",
      "Requirement already satisfied: numpy>=1.17.3 in /Library/Frameworks/Python.framework/Versions/3.9/lib/python3.9/site-packages (from pandas) (1.21.3)\n",
      "Requirement already satisfied: pytz>=2017.3 in /Library/Frameworks/Python.framework/Versions/3.9/lib/python3.9/site-packages (from pandas) (2021.3)\n",
      "Requirement already satisfied: six>=1.5 in /Library/Frameworks/Python.framework/Versions/3.9/lib/python3.9/site-packages (from python-dateutil>=2.7.3->pandas) (1.16.0)\n",
      "Defaulting to user installation because normal site-packages is not writeable\n",
      "Requirement already satisfied: numpy in /Library/Frameworks/Python.framework/Versions/3.9/lib/python3.9/site-packages (1.21.3)\n",
      "Defaulting to user installation because normal site-packages is not writeable\n",
      "Requirement already satisfied: html5lib in /Users/whw/Library/Python/3.9/lib/python/site-packages (1.1)\n",
      "Requirement already satisfied: six>=1.9 in /Library/Frameworks/Python.framework/Versions/3.9/lib/python3.9/site-packages (from html5lib) (1.16.0)\n",
      "Requirement already satisfied: webencodings in /Library/Frameworks/Python.framework/Versions/3.9/lib/python3.9/site-packages (from html5lib) (0.5.1)\n",
      "Defaulting to user installation because normal site-packages is not writeable\n",
      "Requirement already satisfied: lxml in /Library/Frameworks/Python.framework/Versions/3.9/lib/python3.9/site-packages (4.6.3)\n",
      "Defaulting to user installation because normal site-packages is not writeable\n",
      "Requirement already satisfied: html5lib in /Users/whw/Library/Python/3.9/lib/python/site-packages (1.1)\n",
      "Requirement already satisfied: webencodings in /Library/Frameworks/Python.framework/Versions/3.9/lib/python3.9/site-packages (from html5lib) (0.5.1)\n",
      "Requirement already satisfied: six>=1.9 in /Library/Frameworks/Python.framework/Versions/3.9/lib/python3.9/site-packages (from html5lib) (1.16.0)\n"
     ]
    }
   ],
   "source": [
    "!pip install beautifulsoup4\n",
    "!pip install requests\n",
    "!pip install pandas\n",
    "!pip install numpy\n",
    "!pip install html5lib\n",
    "!pip3 install lxml\n",
    "\n",
    "!pip install html5lib"
   ]
  },
  {
   "cell_type": "code",
   "execution_count": 2,
   "id": "3a921c7d",
   "metadata": {
    "collapsed": true
   },
   "outputs": [
    {
     "name": "stdout",
     "output_type": "stream",
     "text": [
      "Defaulting to user installation because normal site-packages is not writeable\n",
      "Requirement already satisfied: html5lib in /Users/whw/Library/Python/3.9/lib/python/site-packages (1.1)\n",
      "Requirement already satisfied: webencodings in /Library/Frameworks/Python.framework/Versions/3.9/lib/python3.9/site-packages (from html5lib) (0.5.1)\n",
      "Requirement already satisfied: six>=1.9 in /Library/Frameworks/Python.framework/Versions/3.9/lib/python3.9/site-packages (from html5lib) (1.16.0)\n"
     ]
    }
   ],
   "source": [
    "!pip install html5lib"
   ]
  },
  {
   "cell_type": "code",
   "execution_count": 3,
   "id": "ad65fbaa",
   "metadata": {},
   "outputs": [],
   "source": [
    "#%matplotlib inline\n",
    "import numpy as np\n",
    "import pandas as pd\n",
    "import requests\n",
    "import numpy\n",
    "import lxml\n",
    "from bs4 import BeautifulSoup\n",
    "import re\n",
    "import html5lib"
   ]
  },
  {
   "cell_type": "markdown",
   "id": "406e69d2",
   "metadata": {},
   "source": [
    "### Data Set 1: Video Games Slaes"
   ]
  },
  {
   "cell_type": "markdown",
   "id": "356f85f0",
   "metadata": {},
   "source": [
    "Our dataset is generated by a scrape of [VGChartz](https://www.vgchartz.com/). It contains a list of video games with sales greater than 100,000 copies in worldwide.\n",
    "\n",
    "Now we are doing some ETL based on what we have now"
   ]
  },
  {
   "cell_type": "code",
   "execution_count": 4,
   "id": "f9461e02",
   "metadata": {},
   "outputs": [
    {
     "data": {
      "text/html": [
       "<div>\n",
       "<style scoped>\n",
       "    .dataframe tbody tr th:only-of-type {\n",
       "        vertical-align: middle;\n",
       "    }\n",
       "\n",
       "    .dataframe tbody tr th {\n",
       "        vertical-align: top;\n",
       "    }\n",
       "\n",
       "    .dataframe thead th {\n",
       "        text-align: right;\n",
       "    }\n",
       "</style>\n",
       "<table border=\"1\" class=\"dataframe\">\n",
       "  <thead>\n",
       "    <tr style=\"text-align: right;\">\n",
       "      <th></th>\n",
       "      <th>Rank</th>\n",
       "      <th>Name</th>\n",
       "      <th>Platform</th>\n",
       "      <th>Year</th>\n",
       "      <th>Genre</th>\n",
       "      <th>Publisher</th>\n",
       "      <th>NA_Sales</th>\n",
       "      <th>EU_Sales</th>\n",
       "      <th>JP_Sales</th>\n",
       "      <th>Other_Sales</th>\n",
       "      <th>Global_Sales</th>\n",
       "    </tr>\n",
       "  </thead>\n",
       "  <tbody>\n",
       "    <tr>\n",
       "      <th>0</th>\n",
       "      <td>1</td>\n",
       "      <td>Wii Sports</td>\n",
       "      <td>Wii</td>\n",
       "      <td>2006.0</td>\n",
       "      <td>Sports</td>\n",
       "      <td>Nintendo</td>\n",
       "      <td>41.49</td>\n",
       "      <td>29.02</td>\n",
       "      <td>3.77</td>\n",
       "      <td>8.46</td>\n",
       "      <td>82.74</td>\n",
       "    </tr>\n",
       "    <tr>\n",
       "      <th>1</th>\n",
       "      <td>2</td>\n",
       "      <td>Super Mario Bros.</td>\n",
       "      <td>NES</td>\n",
       "      <td>1985.0</td>\n",
       "      <td>Platform</td>\n",
       "      <td>Nintendo</td>\n",
       "      <td>29.08</td>\n",
       "      <td>3.58</td>\n",
       "      <td>6.81</td>\n",
       "      <td>0.77</td>\n",
       "      <td>40.24</td>\n",
       "    </tr>\n",
       "    <tr>\n",
       "      <th>2</th>\n",
       "      <td>3</td>\n",
       "      <td>Mario Kart Wii</td>\n",
       "      <td>Wii</td>\n",
       "      <td>2008.0</td>\n",
       "      <td>Racing</td>\n",
       "      <td>Nintendo</td>\n",
       "      <td>15.85</td>\n",
       "      <td>12.88</td>\n",
       "      <td>3.79</td>\n",
       "      <td>3.31</td>\n",
       "      <td>35.82</td>\n",
       "    </tr>\n",
       "    <tr>\n",
       "      <th>3</th>\n",
       "      <td>4</td>\n",
       "      <td>Wii Sports Resort</td>\n",
       "      <td>Wii</td>\n",
       "      <td>2009.0</td>\n",
       "      <td>Sports</td>\n",
       "      <td>Nintendo</td>\n",
       "      <td>15.75</td>\n",
       "      <td>11.01</td>\n",
       "      <td>3.28</td>\n",
       "      <td>2.96</td>\n",
       "      <td>33.00</td>\n",
       "    </tr>\n",
       "    <tr>\n",
       "      <th>4</th>\n",
       "      <td>5</td>\n",
       "      <td>Pokemon Red/Pokemon Blue</td>\n",
       "      <td>GB</td>\n",
       "      <td>1996.0</td>\n",
       "      <td>Role-Playing</td>\n",
       "      <td>Nintendo</td>\n",
       "      <td>11.27</td>\n",
       "      <td>8.89</td>\n",
       "      <td>10.22</td>\n",
       "      <td>1.00</td>\n",
       "      <td>31.37</td>\n",
       "    </tr>\n",
       "  </tbody>\n",
       "</table>\n",
       "</div>"
      ],
      "text/plain": [
       "   Rank                      Name Platform    Year         Genre Publisher  \\\n",
       "0     1                Wii Sports      Wii  2006.0        Sports  Nintendo   \n",
       "1     2         Super Mario Bros.      NES  1985.0      Platform  Nintendo   \n",
       "2     3            Mario Kart Wii      Wii  2008.0        Racing  Nintendo   \n",
       "3     4         Wii Sports Resort      Wii  2009.0        Sports  Nintendo   \n",
       "4     5  Pokemon Red/Pokemon Blue       GB  1996.0  Role-Playing  Nintendo   \n",
       "\n",
       "   NA_Sales  EU_Sales  JP_Sales  Other_Sales  Global_Sales  \n",
       "0     41.49     29.02      3.77         8.46         82.74  \n",
       "1     29.08      3.58      6.81         0.77         40.24  \n",
       "2     15.85     12.88      3.79         3.31         35.82  \n",
       "3     15.75     11.01      3.28         2.96         33.00  \n",
       "4     11.27      8.89     10.22         1.00         31.37  "
      ]
     },
     "execution_count": 4,
     "metadata": {},
     "output_type": "execute_result"
    }
   ],
   "source": [
    "vgs = pd.read_csv(\"../vgsales.csv\") #dataframe vgs: video game sales\n",
    "vgs.head()"
   ]
  },
  {
   "cell_type": "markdown",
   "id": "3c7e4134",
   "metadata": {},
   "source": [
    "Question 1:\n",
    "How does the shares of the market between different companies change during the past decade? (*inner cause? e.g. A great game realse?)\n",
    "\n",
    "We plan to find out each publisher's game sales since 2010 till whenever we have data (2017 in this case). We will then merge the information by ploting the data out and visualize the change of shares of market by each company. Moreover, we can select those companies with a peak in game sales and dig out which game is remarkable"
   ]
  },
  {
   "cell_type": "code",
   "execution_count": 5,
   "id": "504e4b9f",
   "metadata": {},
   "outputs": [],
   "source": [
    "Games0 = vgs.loc[vgs[\"Year\"]==2010].groupby(\"Publisher\")[\"Global_Sales\"].sum()\n",
    "Games1 = vgs.loc[vgs[\"Year\"]==2011].groupby(\"Publisher\")[\"Global_Sales\"].sum()\n",
    "Games2 = vgs.loc[vgs[\"Year\"]==2012].groupby(\"Publisher\")[\"Global_Sales\"].sum()\n",
    "Games3 = vgs.loc[vgs[\"Year\"]==2013].groupby(\"Publisher\")[\"Global_Sales\"].sum()\n",
    "Games4 = vgs.loc[vgs[\"Year\"]==2014].groupby(\"Publisher\")[\"Global_Sales\"].sum()\n",
    "Games5 = vgs.loc[vgs[\"Year\"]==2015].groupby(\"Publisher\")[\"Global_Sales\"].sum()\n",
    "Games6 = vgs.loc[vgs[\"Year\"]==2016].groupby(\"Publisher\")[\"Global_Sales\"].sum()\n",
    "Games7 = vgs.loc[vgs[\"Year\"]==2017].groupby(\"Publisher\")[\"Global_Sales\"].sum()"
   ]
  },
  {
   "cell_type": "markdown",
   "id": "74ba355c",
   "metadata": {},
   "source": [
    "A quick peek on some year"
   ]
  },
  {
   "cell_type": "code",
   "execution_count": 6,
   "id": "158b623a",
   "metadata": {},
   "outputs": [
    {
     "data": {
      "text/plain": [
       "Publisher\n",
       "505 Games                                 14.26\n",
       "5pb                                        0.29\n",
       "7G//AMES                                   0.01\n",
       "ASCII Media Works                          0.12\n",
       "Abylight                                   0.08\n",
       "                                          ...  \n",
       "Virtual Play Games                         0.06\n",
       "Warner Bros. Interactive Entertainment    15.57\n",
       "XS Games                                   0.24\n",
       "Yeti                                       0.11\n",
       "Zoo Games                                  1.10\n",
       "Name: Global_Sales, Length: 142, dtype: float64"
      ]
     },
     "execution_count": 6,
     "metadata": {},
     "output_type": "execute_result"
    }
   ],
   "source": [
    "Games0"
   ]
  },
  {
   "cell_type": "code",
   "execution_count": 7,
   "id": "e22b5cdc",
   "metadata": {},
   "outputs": [
    {
     "data": {
      "text/plain": [
       "Publisher\n",
       "505 Games                                  2.31\n",
       "5pb                                        0.14\n",
       "Activision                                43.49\n",
       "Aerosoft                                   0.02\n",
       "Agatsuma Entertainment                     0.03\n",
       "                                          ...  \n",
       "Trion Worlds                               1.14\n",
       "Ubisoft                                   27.39\n",
       "Unknown                                    0.06\n",
       "Warner Bros. Interactive Entertainment    20.36\n",
       "Xseed Games                                0.19\n",
       "Name: Global_Sales, Length: 76, dtype: float64"
      ]
     },
     "execution_count": 7,
     "metadata": {},
     "output_type": "execute_result"
    }
   ],
   "source": [
    "Games3"
   ]
  },
  {
   "cell_type": "markdown",
   "id": "0e4186e6",
   "metadata": {},
   "source": [
    "Question2: Is there a difference in consumer's preference throughout different regions?\n",
    "We plan to investigate each Genre of game's sales in different regions. By summing the sales, we can find out the greatest selling genre in each region. For the futher analysis, we will compare each genre's proportion with its own region latter and visualize it."
   ]
  },
  {
   "cell_type": "code",
   "execution_count": 8,
   "id": "d482d6ad",
   "metadata": {},
   "outputs": [
    {
     "data": {
      "text/plain": [
       "Publisher\n",
       "505 Games                                 0.54\n",
       "5pb                                       0.04\n",
       "Activision                                3.67\n",
       "Aksys Games                               0.12\n",
       "Alternative Software                      0.11\n",
       "                                          ... \n",
       "Ubisoft                                   9.76\n",
       "Unknown                                   0.16\n",
       "Warner Bros. Interactive Entertainment    3.52\n",
       "Yeti                                      0.02\n",
       "dramatic create                           0.03\n",
       "Name: Global_Sales, Length: 68, dtype: float64"
      ]
     },
     "execution_count": 8,
     "metadata": {},
     "output_type": "execute_result"
    }
   ],
   "source": [
    "Games6"
   ]
  },
  {
   "cell_type": "code",
   "execution_count": 9,
   "id": "7e8c11ac",
   "metadata": {},
   "outputs": [],
   "source": [
    "NA=vgs.groupby(\"Genre\")[\"NA_Sales\"].sum()\n",
    "EU=vgs.groupby(\"Genre\")[\"EU_Sales\"].sum()\n",
    "JP=vgs.groupby(\"Genre\")[\"JP_Sales\"].sum()\n",
    "Other=vgs.groupby(\"Genre\")[\"Other_Sales\"].sum()"
   ]
  },
  {
   "cell_type": "code",
   "execution_count": 10,
   "id": "07e7e905",
   "metadata": {},
   "outputs": [
    {
     "data": {
      "text/plain": [
       "Genre\n",
       "Action          877.83\n",
       "Adventure       105.80\n",
       "Fighting        223.59\n",
       "Misc            410.24\n",
       "Platform        447.05\n",
       "Puzzle          123.78\n",
       "Racing          359.42\n",
       "Role-Playing    327.28\n",
       "Shooter         582.60\n",
       "Simulation      183.31\n",
       "Sports          683.35\n",
       "Strategy         68.70\n",
       "Name: NA_Sales, dtype: float64"
      ]
     },
     "execution_count": 10,
     "metadata": {},
     "output_type": "execute_result"
    }
   ],
   "source": [
    "NA"
   ]
  },
  {
   "cell_type": "code",
   "execution_count": 11,
   "id": "4f12afc9",
   "metadata": {},
   "outputs": [
    {
     "data": {
      "text/plain": [
       "Genre\n",
       "Action          525.00\n",
       "Adventure        64.13\n",
       "Fighting        101.32\n",
       "Misc            215.98\n",
       "Platform        201.63\n",
       "Puzzle           50.78\n",
       "Racing          238.39\n",
       "Role-Playing    188.06\n",
       "Shooter         313.27\n",
       "Simulation      113.38\n",
       "Sports          376.85\n",
       "Strategy         45.34\n",
       "Name: EU_Sales, dtype: float64"
      ]
     },
     "execution_count": 11,
     "metadata": {},
     "output_type": "execute_result"
    }
   ],
   "source": [
    "EU"
   ]
  },
  {
   "cell_type": "code",
   "execution_count": 12,
   "id": "a177efbc",
   "metadata": {},
   "outputs": [
    {
     "data": {
      "text/plain": [
       "Genre\n",
       "Action          159.95\n",
       "Adventure        52.07\n",
       "Fighting         87.35\n",
       "Misc            107.76\n",
       "Platform        130.77\n",
       "Puzzle           57.31\n",
       "Racing           56.69\n",
       "Role-Playing    352.31\n",
       "Shooter          38.28\n",
       "Simulation       63.70\n",
       "Sports          135.37\n",
       "Strategy         49.46\n",
       "Name: JP_Sales, dtype: float64"
      ]
     },
     "execution_count": 12,
     "metadata": {},
     "output_type": "execute_result"
    }
   ],
   "source": [
    "JP\n"
   ]
  },
  {
   "cell_type": "code",
   "execution_count": 13,
   "id": "9ce12d59",
   "metadata": {},
   "outputs": [
    {
     "data": {
      "text/plain": [
       "Genre\n",
       "Action          187.38\n",
       "Adventure        16.81\n",
       "Fighting         36.68\n",
       "Misc             75.32\n",
       "Platform         51.59\n",
       "Puzzle           12.55\n",
       "Racing           77.27\n",
       "Role-Playing     59.61\n",
       "Shooter         102.69\n",
       "Simulation       31.52\n",
       "Sports          134.97\n",
       "Strategy         11.36\n",
       "Name: Other_Sales, dtype: float64"
      ]
     },
     "execution_count": 13,
     "metadata": {},
     "output_type": "execute_result"
    }
   ],
   "source": [
    "Other"
   ]
  },
  {
   "cell_type": "markdown",
   "id": "884d2916",
   "metadata": {},
   "source": [
    "Question3: The different in size of the market of different platforms?\n",
    "\n",
    "Our plan is to find out the total sales of each game in every platform in this dataset, but we might meet a trouble here since Game quality is a factor influencing sales. The sales can't explain everything about a size of the market. We will see if we can find another dataset or a better way to analysis our data."
   ]
  },
  {
   "cell_type": "code",
   "execution_count": 14,
   "id": "600f690a",
   "metadata": {},
   "outputs": [
    {
     "data": {
      "text/plain": [
       "Platform\n",
       "2600      97.08\n",
       "3DO        0.10\n",
       "3DS      247.46\n",
       "DC        15.97\n",
       "DS       822.49\n",
       "GB       255.45\n",
       "GBA      318.50\n",
       "GC       199.36\n",
       "GEN       28.36\n",
       "GG         0.04\n",
       "N64      218.88\n",
       "NES      251.07\n",
       "NG         1.44\n",
       "PC       258.82\n",
       "PCFX       0.03\n",
       "PS       730.66\n",
       "PS2     1255.64\n",
       "PS3      957.84\n",
       "PS4      278.10\n",
       "PSP      296.28\n",
       "PSV       61.93\n",
       "SAT       33.59\n",
       "SCD        1.87\n",
       "SNES     200.05\n",
       "TG16       0.16\n",
       "WS         1.42\n",
       "Wii      926.71\n",
       "WiiU      81.86\n",
       "X360     979.96\n",
       "XB       258.26\n",
       "XOne     141.06\n",
       "Name: Global_Sales, dtype: float64"
      ]
     },
     "execution_count": 14,
     "metadata": {},
     "output_type": "execute_result"
    }
   ],
   "source": [
    "platform=vgs.groupby(\"Platform\")[\"Global_Sales\"].sum()\n",
    "platform"
   ]
  },
  {
   "cell_type": "markdown",
   "id": "92b8a846",
   "metadata": {},
   "source": [
    "### Data Set 2: Steam database"
   ]
  },
  {
   "cell_type": "markdown",
   "id": "993e370e",
   "metadata": {},
   "source": [
    "First, we scrap and generate the dataframe using several pandas functions"
   ]
  },
  {
   "cell_type": "code",
   "execution_count": 51,
   "id": "1f90cf7e",
   "metadata": {},
   "outputs": [],
   "source": [
    "header = {'User-Agent': 'Mozilla/5.0 (Macintosh; Intel Mac OS X 10_10_1) AppleWebKit/537.36 (KHTML, like Gecko) Chrome/39.0.2171.95 Safari/537.36'}\n",
    "response = requests.get('https://store.steampowered.com/stats/',headers=header)\n",
    "resource = response.text"
   ]
  },
  {
   "cell_type": "code",
   "execution_count": 52,
   "id": "8303f47f",
   "metadata": {},
   "outputs": [],
   "source": [
    "souped_resource = BeautifulSoup(resource,\"html.parser\")\n",
    "prettify_resource = BeautifulSoup.prettify(souped_resource)\n",
    "soup = BeautifulSoup(prettify_resource)\n",
    "table_found = soup.find(\"div\",{'id' : \"detailStats\"})"
   ]
  },
  {
   "cell_type": "code",
   "execution_count": 70,
   "id": "0dc0d723",
   "metadata": {},
   "outputs": [],
   "source": [
    "table = pd.read_html(str(table_found))"
   ]
  },
  {
   "cell_type": "code",
   "execution_count": 71,
   "id": "ca528dd6",
   "metadata": {},
   "outputs": [],
   "source": [
    "df_steam = pd.DataFrame(table[0])"
   ]
  },
  {
   "cell_type": "code",
   "execution_count": 72,
   "id": "ebc5a4b9",
   "metadata": {},
   "outputs": [
    {
     "data": {
      "text/html": [
       "<div>\n",
       "<style scoped>\n",
       "    .dataframe tbody tr th:only-of-type {\n",
       "        vertical-align: middle;\n",
       "    }\n",
       "\n",
       "    .dataframe tbody tr th {\n",
       "        vertical-align: top;\n",
       "    }\n",
       "\n",
       "    .dataframe thead th {\n",
       "        text-align: right;\n",
       "    }\n",
       "</style>\n",
       "<table border=\"1\" class=\"dataframe\">\n",
       "  <thead>\n",
       "    <tr style=\"text-align: right;\">\n",
       "      <th></th>\n",
       "      <th>0</th>\n",
       "      <th>1</th>\n",
       "      <th>2</th>\n",
       "      <th>3</th>\n",
       "      <th>4</th>\n",
       "    </tr>\n",
       "  </thead>\n",
       "  <tbody>\n",
       "    <tr>\n",
       "      <th>0</th>\n",
       "      <td>Current Players</td>\n",
       "      <td>Peak Today</td>\n",
       "      <td>NaN</td>\n",
       "      <td>Game</td>\n",
       "      <td>NaN</td>\n",
       "    </tr>\n",
       "    <tr>\n",
       "      <th>1</th>\n",
       "      <td>NaN</td>\n",
       "      <td>NaN</td>\n",
       "      <td>NaN</td>\n",
       "      <td>NaN</td>\n",
       "      <td>NaN</td>\n",
       "    </tr>\n",
       "    <tr>\n",
       "      <th>2</th>\n",
       "      <td>316599</td>\n",
       "      <td>664867</td>\n",
       "      <td>NaN</td>\n",
       "      <td>Dota 2</td>\n",
       "      <td>NaN</td>\n",
       "    </tr>\n",
       "    <tr>\n",
       "      <th>3</th>\n",
       "      <td>311149</td>\n",
       "      <td>770805</td>\n",
       "      <td>NaN</td>\n",
       "      <td>Counter-Strike: Global Offensive</td>\n",
       "      <td>NaN</td>\n",
       "    </tr>\n",
       "    <tr>\n",
       "      <th>4</th>\n",
       "      <td>139970</td>\n",
       "      <td>323384</td>\n",
       "      <td>NaN</td>\n",
       "      <td>PUBG: BATTLEGROUNDS</td>\n",
       "      <td>NaN</td>\n",
       "    </tr>\n",
       "    <tr>\n",
       "      <th>5</th>\n",
       "      <td>98673</td>\n",
       "      <td>245629</td>\n",
       "      <td>NaN</td>\n",
       "      <td>Apex Legends</td>\n",
       "      <td>NaN</td>\n",
       "    </tr>\n",
       "    <tr>\n",
       "      <th>6</th>\n",
       "      <td>67088</td>\n",
       "      <td>84295</td>\n",
       "      <td>NaN</td>\n",
       "      <td>Team Fortress 2</td>\n",
       "      <td>NaN</td>\n",
       "    </tr>\n",
       "    <tr>\n",
       "      <th>7</th>\n",
       "      <td>59099</td>\n",
       "      <td>61894</td>\n",
       "      <td>NaN</td>\n",
       "      <td>MIR4</td>\n",
       "      <td>NaN</td>\n",
       "    </tr>\n",
       "    <tr>\n",
       "      <th>8</th>\n",
       "      <td>53030</td>\n",
       "      <td>109484</td>\n",
       "      <td>NaN</td>\n",
       "      <td>Grand Theft Auto V</td>\n",
       "      <td>NaN</td>\n",
       "    </tr>\n",
       "    <tr>\n",
       "      <th>9</th>\n",
       "      <td>42082</td>\n",
       "      <td>108245</td>\n",
       "      <td>NaN</td>\n",
       "      <td>NARAKA: BLADEPOINT</td>\n",
       "      <td>NaN</td>\n",
       "    </tr>\n",
       "    <tr>\n",
       "      <th>10</th>\n",
       "      <td>41370</td>\n",
       "      <td>63145</td>\n",
       "      <td>NaN</td>\n",
       "      <td>Wallpaper Engine</td>\n",
       "      <td>NaN</td>\n",
       "    </tr>\n",
       "    <tr>\n",
       "      <th>11</th>\n",
       "      <td>38917</td>\n",
       "      <td>67264</td>\n",
       "      <td>NaN</td>\n",
       "      <td>Destiny 2</td>\n",
       "      <td>NaN</td>\n",
       "    </tr>\n",
       "  </tbody>\n",
       "</table>\n",
       "</div>"
      ],
      "text/plain": [
       "                  0           1   2                                 3   4\n",
       "0   Current Players  Peak Today NaN                              Game NaN\n",
       "1               NaN         NaN NaN                               NaN NaN\n",
       "2            316599      664867 NaN                            Dota 2 NaN\n",
       "3            311149      770805 NaN  Counter-Strike: Global Offensive NaN\n",
       "4            139970      323384 NaN               PUBG: BATTLEGROUNDS NaN\n",
       "5             98673      245629 NaN                      Apex Legends NaN\n",
       "6             67088       84295 NaN                   Team Fortress 2 NaN\n",
       "7             59099       61894 NaN                              MIR4 NaN\n",
       "8             53030      109484 NaN                Grand Theft Auto V NaN\n",
       "9             42082      108245 NaN                NARAKA: BLADEPOINT NaN\n",
       "10            41370       63145 NaN                  Wallpaper Engine NaN\n",
       "11            38917       67264 NaN                         Destiny 2 NaN"
      ]
     },
     "execution_count": 72,
     "metadata": {},
     "output_type": "execute_result"
    }
   ],
   "source": [
    "df_steam"
   ]
  },
  {
   "cell_type": "code",
   "execution_count": 73,
   "id": "65729dad",
   "metadata": {},
   "outputs": [],
   "source": [
    "df_steam = df_steam.loc[2:]"
   ]
  },
  {
   "cell_type": "code",
   "execution_count": 74,
   "id": "4ef09471",
   "metadata": {},
   "outputs": [],
   "source": [
    "df_steam =df_steam.drop(columns = 2)\n",
    "df_steam =df_steam.drop(columns = 4)"
   ]
  },
  {
   "cell_type": "code",
   "execution_count": 75,
   "id": "81b5c988",
   "metadata": {},
   "outputs": [],
   "source": [
    "df_steam.columns=['Current Players','Peak Today','Game']"
   ]
  },
  {
   "cell_type": "markdown",
   "id": "5fff9e8d",
   "metadata": {},
   "source": []
  },
  {
   "cell_type": "code",
   "execution_count": 76,
   "id": "e55cec7a",
   "metadata": {},
   "outputs": [
    {
     "data": {
      "text/html": [
       "<div>\n",
       "<style scoped>\n",
       "    .dataframe tbody tr th:only-of-type {\n",
       "        vertical-align: middle;\n",
       "    }\n",
       "\n",
       "    .dataframe tbody tr th {\n",
       "        vertical-align: top;\n",
       "    }\n",
       "\n",
       "    .dataframe thead th {\n",
       "        text-align: right;\n",
       "    }\n",
       "</style>\n",
       "<table border=\"1\" class=\"dataframe\">\n",
       "  <thead>\n",
       "    <tr style=\"text-align: right;\">\n",
       "      <th></th>\n",
       "      <th>Current Players</th>\n",
       "      <th>Peak Today</th>\n",
       "      <th>Game</th>\n",
       "    </tr>\n",
       "  </thead>\n",
       "  <tbody>\n",
       "    <tr>\n",
       "      <th>2</th>\n",
       "      <td>316599</td>\n",
       "      <td>664867</td>\n",
       "      <td>Dota 2</td>\n",
       "    </tr>\n",
       "    <tr>\n",
       "      <th>3</th>\n",
       "      <td>311149</td>\n",
       "      <td>770805</td>\n",
       "      <td>Counter-Strike: Global Offensive</td>\n",
       "    </tr>\n",
       "    <tr>\n",
       "      <th>4</th>\n",
       "      <td>139970</td>\n",
       "      <td>323384</td>\n",
       "      <td>PUBG: BATTLEGROUNDS</td>\n",
       "    </tr>\n",
       "    <tr>\n",
       "      <th>5</th>\n",
       "      <td>98673</td>\n",
       "      <td>245629</td>\n",
       "      <td>Apex Legends</td>\n",
       "    </tr>\n",
       "    <tr>\n",
       "      <th>6</th>\n",
       "      <td>67088</td>\n",
       "      <td>84295</td>\n",
       "      <td>Team Fortress 2</td>\n",
       "    </tr>\n",
       "    <tr>\n",
       "      <th>7</th>\n",
       "      <td>59099</td>\n",
       "      <td>61894</td>\n",
       "      <td>MIR4</td>\n",
       "    </tr>\n",
       "    <tr>\n",
       "      <th>8</th>\n",
       "      <td>53030</td>\n",
       "      <td>109484</td>\n",
       "      <td>Grand Theft Auto V</td>\n",
       "    </tr>\n",
       "    <tr>\n",
       "      <th>9</th>\n",
       "      <td>42082</td>\n",
       "      <td>108245</td>\n",
       "      <td>NARAKA: BLADEPOINT</td>\n",
       "    </tr>\n",
       "    <tr>\n",
       "      <th>10</th>\n",
       "      <td>41370</td>\n",
       "      <td>63145</td>\n",
       "      <td>Wallpaper Engine</td>\n",
       "    </tr>\n",
       "    <tr>\n",
       "      <th>11</th>\n",
       "      <td>38917</td>\n",
       "      <td>67264</td>\n",
       "      <td>Destiny 2</td>\n",
       "    </tr>\n",
       "  </tbody>\n",
       "</table>\n",
       "</div>"
      ],
      "text/plain": [
       "   Current Players Peak Today                              Game\n",
       "2           316599     664867                            Dota 2\n",
       "3           311149     770805  Counter-Strike: Global Offensive\n",
       "4           139970     323384               PUBG: BATTLEGROUNDS\n",
       "5            98673     245629                      Apex Legends\n",
       "6            67088      84295                   Team Fortress 2\n",
       "7            59099      61894                              MIR4\n",
       "8            53030     109484                Grand Theft Auto V\n",
       "9            42082     108245                NARAKA: BLADEPOINT\n",
       "10           41370      63145                  Wallpaper Engine\n",
       "11           38917      67264                         Destiny 2"
      ]
     },
     "execution_count": 76,
     "metadata": {},
     "output_type": "execute_result"
    }
   ],
   "source": [
    "df_steam"
   ]
  }
 ],
 "metadata": {
  "kernelspec": {
   "display_name": "Python 3 (ipykernel)",
   "language": "python",
   "name": "python3"
  },
  "language_info": {
   "codemirror_mode": {
    "name": "ipython",
    "version": 3
   },
   "file_extension": ".py",
   "mimetype": "text/x-python",
   "name": "python",
   "nbconvert_exporter": "python",
   "pygments_lexer": "ipython3",
   "version": "3.9.2"
  }
 },
 "nbformat": 4,
 "nbformat_minor": 5
}
