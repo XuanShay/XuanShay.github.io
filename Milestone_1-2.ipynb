{
  "nbformat": 4,
  "nbformat_minor": 5,
  "metadata": {
    "kernelspec": {
      "display_name": "Python 3 (ipykernel)",
      "language": "python",
      "name": "python3"
    },
    "language_info": {
      "codemirror_mode": {
        "name": "ipython",
        "version": 3
      },
      "file_extension": ".py",
      "mimetype": "text/x-python",
      "name": "python",
      "nbconvert_exporter": "python",
      "pygments_lexer": "ipython3",
      "version": "3.9.2"
    },
    "colab": {
      "name": "Milestone 1.ipynb",
      "provenance": [],
      "toc_visible": true
    }
  },
  "cells": [
    {
      "cell_type": "markdown",
      "metadata": {
        "id": "8ea93153"
      },
      "source": [
        "https://xuanshay.github.io"
      ],
      "id": "8ea93153"
    },
    {
      "cell_type": "code",
      "metadata": {
        "id": "W3breCtWFnZU",
        "colab": {
          "base_uri": "https://localhost:8080/"
        },
        "outputId": "2d9eff47-47d9-47e7-d47b-730319d6826a"
      },
      "source": [
        "from google.colab import drive\n",
        "drive.mount('/content/drive')"
      ],
      "id": "W3breCtWFnZU",
      "execution_count": 8,
      "outputs": [
        {
          "output_type": "stream",
          "name": "stdout",
          "text": [
            "Drive already mounted at /content/drive; to attempt to forcibly remount, call drive.mount(\"/content/drive\", force_remount=True).\n"
          ]
        }
      ]
    },
    {
      "cell_type": "markdown",
      "metadata": {
        "id": "2843b73c"
      },
      "source": [
        "# Project: Video game sales\n",
        "\n",
        "Group Memebers: Yuxuan Zhang, Haowen Weng\n",
        "\n",
        "The project aims to dig into the market of video games. The projects investigares tendencies and conclusions about the video game industries.\n"
      ],
      "id": "2843b73c"
    },
    {
      "cell_type": "markdown",
      "metadata": {
        "id": "4437c73a"
      },
      "source": [
        "---"
      ],
      "id": "4437c73a"
    },
    {
      "cell_type": "markdown",
      "metadata": {
        "id": "83915239"
      },
      "source": [
        "### Datasets:\n",
        "* Video Games Sales  \n",
        "    * Downloaded from https://www.kaggle.com/gregorut/videogamesales  \n",
        "    * The dataset contains a list of video games with sales greater than 100,000 copies. The release year of the games are between 1980 and 2020\n",
        "* Steam database\n",
        "    * Scraped from https://store.steampowered.com/stats/\n",
        "    * The website introduced games with most steam users. It includes both current players and the peak of the day.\n",
        "* Previous Steam Games Ranking\n",
        "    * Downloaded from https://www.kaggle.com/michau96/popularity-of-games-on-steam/version/6\n",
        "    * Th data shows the top trending games with most players of previous years"
      ],
      "id": "83915239"
    },
    {
      "cell_type": "markdown",
      "metadata": {
        "id": "f6ae7645"
      },
      "source": [
        "---"
      ],
      "id": "f6ae7645"
    },
    {
      "cell_type": "markdown",
      "metadata": {
        "id": "7ffba27e"
      },
      "source": [
        "### Purpose and Questions:\n",
        "* How does the shares of the market between different companies change during the past decade?\n",
        "* Is there a difference in consumer's preference throughout different regions?\n",
        "* The lifttime of a game\n"
      ],
      "id": "7ffba27e"
    },
    {
      "cell_type": "markdown",
      "metadata": {
        "id": "63c8d472"
      },
      "source": [
        "---"
      ],
      "id": "63c8d472"
    },
    {
      "cell_type": "markdown",
      "metadata": {
        "id": "22bcc2b2"
      },
      "source": [
        "## Data Generalization, Extraction, Transfrom, and Load"
      ],
      "id": "22bcc2b2"
    },
    {
      "cell_type": "code",
      "metadata": {
        "colab": {
          "base_uri": "https://localhost:8080/"
        },
        "id": "7fe1f26d",
        "outputId": "db6f75b6-dd7b-4ef4-e03b-c0c2a6726281"
      },
      "source": [
        "!pip install beautifulsoup4\n",
        "!pip install requests\n",
        "!pip install pandas\n",
        "!pip install numpy\n",
        "!pip install html5lib\n",
        "!pip3 install lxml\n",
        "\n",
        "!pip install html5lib"
      ],
      "id": "7fe1f26d",
      "execution_count": 9,
      "outputs": [
        {
          "output_type": "stream",
          "name": "stdout",
          "text": [
            "Requirement already satisfied: beautifulsoup4 in /usr/local/lib/python3.7/dist-packages (4.6.3)\n",
            "Requirement already satisfied: requests in /usr/local/lib/python3.7/dist-packages (2.23.0)\n",
            "Requirement already satisfied: chardet<4,>=3.0.2 in /usr/local/lib/python3.7/dist-packages (from requests) (3.0.4)\n",
            "Requirement already satisfied: certifi>=2017.4.17 in /usr/local/lib/python3.7/dist-packages (from requests) (2021.10.8)\n",
            "Requirement already satisfied: idna<3,>=2.5 in /usr/local/lib/python3.7/dist-packages (from requests) (2.10)\n",
            "Requirement already satisfied: urllib3!=1.25.0,!=1.25.1,<1.26,>=1.21.1 in /usr/local/lib/python3.7/dist-packages (from requests) (1.24.3)\n",
            "Requirement already satisfied: pandas in /usr/local/lib/python3.7/dist-packages (1.1.5)\n",
            "Requirement already satisfied: python-dateutil>=2.7.3 in /usr/local/lib/python3.7/dist-packages (from pandas) (2.8.2)\n",
            "Requirement already satisfied: numpy>=1.15.4 in /usr/local/lib/python3.7/dist-packages (from pandas) (1.19.5)\n",
            "Requirement already satisfied: pytz>=2017.2 in /usr/local/lib/python3.7/dist-packages (from pandas) (2018.9)\n",
            "Requirement already satisfied: six>=1.5 in /usr/local/lib/python3.7/dist-packages (from python-dateutil>=2.7.3->pandas) (1.15.0)\n",
            "Requirement already satisfied: numpy in /usr/local/lib/python3.7/dist-packages (1.19.5)\n",
            "Requirement already satisfied: html5lib in /usr/local/lib/python3.7/dist-packages (1.0.1)\n",
            "Requirement already satisfied: webencodings in /usr/local/lib/python3.7/dist-packages (from html5lib) (0.5.1)\n",
            "Requirement already satisfied: six>=1.9 in /usr/local/lib/python3.7/dist-packages (from html5lib) (1.15.0)\n",
            "Requirement already satisfied: lxml in /usr/local/lib/python3.7/dist-packages (4.2.6)\n",
            "Requirement already satisfied: html5lib in /usr/local/lib/python3.7/dist-packages (1.0.1)\n",
            "Requirement already satisfied: webencodings in /usr/local/lib/python3.7/dist-packages (from html5lib) (0.5.1)\n",
            "Requirement already satisfied: six>=1.9 in /usr/local/lib/python3.7/dist-packages (from html5lib) (1.15.0)\n"
          ]
        }
      ]
    },
    {
      "cell_type": "code",
      "metadata": {
        "colab": {
          "base_uri": "https://localhost:8080/"
        },
        "id": "3a921c7d",
        "outputId": "5b8895de-6ccd-44ae-e5db-0c76382fdf98"
      },
      "source": [
        "!pip install html5lib"
      ],
      "id": "3a921c7d",
      "execution_count": 10,
      "outputs": [
        {
          "output_type": "stream",
          "name": "stdout",
          "text": [
            "Requirement already satisfied: html5lib in /usr/local/lib/python3.7/dist-packages (1.0.1)\n",
            "Requirement already satisfied: webencodings in /usr/local/lib/python3.7/dist-packages (from html5lib) (0.5.1)\n",
            "Requirement already satisfied: six>=1.9 in /usr/local/lib/python3.7/dist-packages (from html5lib) (1.15.0)\n"
          ]
        }
      ]
    },
    {
      "cell_type": "code",
      "metadata": {
        "id": "ad65fbaa"
      },
      "source": [
        "#%matplotlib inline\n",
        "import numpy as np\n",
        "import pandas as pd\n",
        "import requests\n",
        "import numpy\n",
        "import lxml\n",
        "from bs4 import BeautifulSoup\n",
        "import re\n",
        "import html5lib"
      ],
      "id": "ad65fbaa",
      "execution_count": 11,
      "outputs": []
    },
    {
      "cell_type": "markdown",
      "metadata": {
        "id": "406e69d2"
      },
      "source": [
        "### Data Set 1: Video Games Slaes"
      ],
      "id": "406e69d2"
    },
    {
      "cell_type": "markdown",
      "metadata": {
        "id": "356f85f0"
      },
      "source": [
        "Our dataset is generated by a scrape of [VGChartz](https://www.vgchartz.com/). It contains a list of video games with sales greater than 100,000 copies in worldwide.\n",
        "\n",
        "Now we are doing some ETL based on what we have now"
      ],
      "id": "356f85f0"
    },
    {
      "cell_type": "code",
      "metadata": {
        "colab": {
          "base_uri": "https://localhost:8080/",
          "height": 1000
        },
        "id": "f9461e02",
        "outputId": "9486e82a-5dc5-4165-889d-f28dd28bdffd"
      },
      "source": [
        "vgs = pd.read_csv(\"/content/drive/MyDrive/Colab Notebooks/vgsales.csv\")\n",
        "#vgs = pd.read_csv(\"../vgsales.csv\") #dataframe vgs: video game sales\n",
        "vgs.head(50)\n"
      ],
      "id": "f9461e02",
      "execution_count": 12,
      "outputs": [
        {
          "output_type": "execute_result",
          "data": {
            "text/html": [
              "<div>\n",
              "<style scoped>\n",
              "    .dataframe tbody tr th:only-of-type {\n",
              "        vertical-align: middle;\n",
              "    }\n",
              "\n",
              "    .dataframe tbody tr th {\n",
              "        vertical-align: top;\n",
              "    }\n",
              "\n",
              "    .dataframe thead th {\n",
              "        text-align: right;\n",
              "    }\n",
              "</style>\n",
              "<table border=\"1\" class=\"dataframe\">\n",
              "  <thead>\n",
              "    <tr style=\"text-align: right;\">\n",
              "      <th></th>\n",
              "      <th>Rank</th>\n",
              "      <th>Name</th>\n",
              "      <th>Platform</th>\n",
              "      <th>Year</th>\n",
              "      <th>Genre</th>\n",
              "      <th>Publisher</th>\n",
              "      <th>NA_Sales</th>\n",
              "      <th>EU_Sales</th>\n",
              "      <th>JP_Sales</th>\n",
              "      <th>Other_Sales</th>\n",
              "      <th>Global_Sales</th>\n",
              "    </tr>\n",
              "  </thead>\n",
              "  <tbody>\n",
              "    <tr>\n",
              "      <th>0</th>\n",
              "      <td>1</td>\n",
              "      <td>Wii Sports</td>\n",
              "      <td>Wii</td>\n",
              "      <td>2006.0</td>\n",
              "      <td>Sports</td>\n",
              "      <td>Nintendo</td>\n",
              "      <td>41.49</td>\n",
              "      <td>29.02</td>\n",
              "      <td>3.77</td>\n",
              "      <td>8.46</td>\n",
              "      <td>82.74</td>\n",
              "    </tr>\n",
              "    <tr>\n",
              "      <th>1</th>\n",
              "      <td>2</td>\n",
              "      <td>Super Mario Bros.</td>\n",
              "      <td>NES</td>\n",
              "      <td>1985.0</td>\n",
              "      <td>Platform</td>\n",
              "      <td>Nintendo</td>\n",
              "      <td>29.08</td>\n",
              "      <td>3.58</td>\n",
              "      <td>6.81</td>\n",
              "      <td>0.77</td>\n",
              "      <td>40.24</td>\n",
              "    </tr>\n",
              "    <tr>\n",
              "      <th>2</th>\n",
              "      <td>3</td>\n",
              "      <td>Mario Kart Wii</td>\n",
              "      <td>Wii</td>\n",
              "      <td>2008.0</td>\n",
              "      <td>Racing</td>\n",
              "      <td>Nintendo</td>\n",
              "      <td>15.85</td>\n",
              "      <td>12.88</td>\n",
              "      <td>3.79</td>\n",
              "      <td>3.31</td>\n",
              "      <td>35.82</td>\n",
              "    </tr>\n",
              "    <tr>\n",
              "      <th>3</th>\n",
              "      <td>4</td>\n",
              "      <td>Wii Sports Resort</td>\n",
              "      <td>Wii</td>\n",
              "      <td>2009.0</td>\n",
              "      <td>Sports</td>\n",
              "      <td>Nintendo</td>\n",
              "      <td>15.75</td>\n",
              "      <td>11.01</td>\n",
              "      <td>3.28</td>\n",
              "      <td>2.96</td>\n",
              "      <td>33.00</td>\n",
              "    </tr>\n",
              "    <tr>\n",
              "      <th>4</th>\n",
              "      <td>5</td>\n",
              "      <td>Pokemon Red/Pokemon Blue</td>\n",
              "      <td>GB</td>\n",
              "      <td>1996.0</td>\n",
              "      <td>Role-Playing</td>\n",
              "      <td>Nintendo</td>\n",
              "      <td>11.27</td>\n",
              "      <td>8.89</td>\n",
              "      <td>10.22</td>\n",
              "      <td>1.00</td>\n",
              "      <td>31.37</td>\n",
              "    </tr>\n",
              "    <tr>\n",
              "      <th>5</th>\n",
              "      <td>6</td>\n",
              "      <td>Tetris</td>\n",
              "      <td>GB</td>\n",
              "      <td>1989.0</td>\n",
              "      <td>Puzzle</td>\n",
              "      <td>Nintendo</td>\n",
              "      <td>23.20</td>\n",
              "      <td>2.26</td>\n",
              "      <td>4.22</td>\n",
              "      <td>0.58</td>\n",
              "      <td>30.26</td>\n",
              "    </tr>\n",
              "    <tr>\n",
              "      <th>6</th>\n",
              "      <td>7</td>\n",
              "      <td>New Super Mario Bros.</td>\n",
              "      <td>DS</td>\n",
              "      <td>2006.0</td>\n",
              "      <td>Platform</td>\n",
              "      <td>Nintendo</td>\n",
              "      <td>11.38</td>\n",
              "      <td>9.23</td>\n",
              "      <td>6.50</td>\n",
              "      <td>2.90</td>\n",
              "      <td>30.01</td>\n",
              "    </tr>\n",
              "    <tr>\n",
              "      <th>7</th>\n",
              "      <td>8</td>\n",
              "      <td>Wii Play</td>\n",
              "      <td>Wii</td>\n",
              "      <td>2006.0</td>\n",
              "      <td>Misc</td>\n",
              "      <td>Nintendo</td>\n",
              "      <td>14.03</td>\n",
              "      <td>9.20</td>\n",
              "      <td>2.93</td>\n",
              "      <td>2.85</td>\n",
              "      <td>29.02</td>\n",
              "    </tr>\n",
              "    <tr>\n",
              "      <th>8</th>\n",
              "      <td>9</td>\n",
              "      <td>New Super Mario Bros. Wii</td>\n",
              "      <td>Wii</td>\n",
              "      <td>2009.0</td>\n",
              "      <td>Platform</td>\n",
              "      <td>Nintendo</td>\n",
              "      <td>14.59</td>\n",
              "      <td>7.06</td>\n",
              "      <td>4.70</td>\n",
              "      <td>2.26</td>\n",
              "      <td>28.62</td>\n",
              "    </tr>\n",
              "    <tr>\n",
              "      <th>9</th>\n",
              "      <td>10</td>\n",
              "      <td>Duck Hunt</td>\n",
              "      <td>NES</td>\n",
              "      <td>1984.0</td>\n",
              "      <td>Shooter</td>\n",
              "      <td>Nintendo</td>\n",
              "      <td>26.93</td>\n",
              "      <td>0.63</td>\n",
              "      <td>0.28</td>\n",
              "      <td>0.47</td>\n",
              "      <td>28.31</td>\n",
              "    </tr>\n",
              "    <tr>\n",
              "      <th>10</th>\n",
              "      <td>11</td>\n",
              "      <td>Nintendogs</td>\n",
              "      <td>DS</td>\n",
              "      <td>2005.0</td>\n",
              "      <td>Simulation</td>\n",
              "      <td>Nintendo</td>\n",
              "      <td>9.07</td>\n",
              "      <td>11.00</td>\n",
              "      <td>1.93</td>\n",
              "      <td>2.75</td>\n",
              "      <td>24.76</td>\n",
              "    </tr>\n",
              "    <tr>\n",
              "      <th>11</th>\n",
              "      <td>12</td>\n",
              "      <td>Mario Kart DS</td>\n",
              "      <td>DS</td>\n",
              "      <td>2005.0</td>\n",
              "      <td>Racing</td>\n",
              "      <td>Nintendo</td>\n",
              "      <td>9.81</td>\n",
              "      <td>7.57</td>\n",
              "      <td>4.13</td>\n",
              "      <td>1.92</td>\n",
              "      <td>23.42</td>\n",
              "    </tr>\n",
              "    <tr>\n",
              "      <th>12</th>\n",
              "      <td>13</td>\n",
              "      <td>Pokemon Gold/Pokemon Silver</td>\n",
              "      <td>GB</td>\n",
              "      <td>1999.0</td>\n",
              "      <td>Role-Playing</td>\n",
              "      <td>Nintendo</td>\n",
              "      <td>9.00</td>\n",
              "      <td>6.18</td>\n",
              "      <td>7.20</td>\n",
              "      <td>0.71</td>\n",
              "      <td>23.10</td>\n",
              "    </tr>\n",
              "    <tr>\n",
              "      <th>13</th>\n",
              "      <td>14</td>\n",
              "      <td>Wii Fit</td>\n",
              "      <td>Wii</td>\n",
              "      <td>2007.0</td>\n",
              "      <td>Sports</td>\n",
              "      <td>Nintendo</td>\n",
              "      <td>8.94</td>\n",
              "      <td>8.03</td>\n",
              "      <td>3.60</td>\n",
              "      <td>2.15</td>\n",
              "      <td>22.72</td>\n",
              "    </tr>\n",
              "    <tr>\n",
              "      <th>14</th>\n",
              "      <td>15</td>\n",
              "      <td>Wii Fit Plus</td>\n",
              "      <td>Wii</td>\n",
              "      <td>2009.0</td>\n",
              "      <td>Sports</td>\n",
              "      <td>Nintendo</td>\n",
              "      <td>9.09</td>\n",
              "      <td>8.59</td>\n",
              "      <td>2.53</td>\n",
              "      <td>1.79</td>\n",
              "      <td>22.00</td>\n",
              "    </tr>\n",
              "    <tr>\n",
              "      <th>15</th>\n",
              "      <td>16</td>\n",
              "      <td>Kinect Adventures!</td>\n",
              "      <td>X360</td>\n",
              "      <td>2010.0</td>\n",
              "      <td>Misc</td>\n",
              "      <td>Microsoft Game Studios</td>\n",
              "      <td>14.97</td>\n",
              "      <td>4.94</td>\n",
              "      <td>0.24</td>\n",
              "      <td>1.67</td>\n",
              "      <td>21.82</td>\n",
              "    </tr>\n",
              "    <tr>\n",
              "      <th>16</th>\n",
              "      <td>17</td>\n",
              "      <td>Grand Theft Auto V</td>\n",
              "      <td>PS3</td>\n",
              "      <td>2013.0</td>\n",
              "      <td>Action</td>\n",
              "      <td>Take-Two Interactive</td>\n",
              "      <td>7.01</td>\n",
              "      <td>9.27</td>\n",
              "      <td>0.97</td>\n",
              "      <td>4.14</td>\n",
              "      <td>21.40</td>\n",
              "    </tr>\n",
              "    <tr>\n",
              "      <th>17</th>\n",
              "      <td>18</td>\n",
              "      <td>Grand Theft Auto: San Andreas</td>\n",
              "      <td>PS2</td>\n",
              "      <td>2004.0</td>\n",
              "      <td>Action</td>\n",
              "      <td>Take-Two Interactive</td>\n",
              "      <td>9.43</td>\n",
              "      <td>0.40</td>\n",
              "      <td>0.41</td>\n",
              "      <td>10.57</td>\n",
              "      <td>20.81</td>\n",
              "    </tr>\n",
              "    <tr>\n",
              "      <th>18</th>\n",
              "      <td>19</td>\n",
              "      <td>Super Mario World</td>\n",
              "      <td>SNES</td>\n",
              "      <td>1990.0</td>\n",
              "      <td>Platform</td>\n",
              "      <td>Nintendo</td>\n",
              "      <td>12.78</td>\n",
              "      <td>3.75</td>\n",
              "      <td>3.54</td>\n",
              "      <td>0.55</td>\n",
              "      <td>20.61</td>\n",
              "    </tr>\n",
              "    <tr>\n",
              "      <th>19</th>\n",
              "      <td>20</td>\n",
              "      <td>Brain Age: Train Your Brain in Minutes a Day</td>\n",
              "      <td>DS</td>\n",
              "      <td>2005.0</td>\n",
              "      <td>Misc</td>\n",
              "      <td>Nintendo</td>\n",
              "      <td>4.75</td>\n",
              "      <td>9.26</td>\n",
              "      <td>4.16</td>\n",
              "      <td>2.05</td>\n",
              "      <td>20.22</td>\n",
              "    </tr>\n",
              "    <tr>\n",
              "      <th>20</th>\n",
              "      <td>21</td>\n",
              "      <td>Pokemon Diamond/Pokemon Pearl</td>\n",
              "      <td>DS</td>\n",
              "      <td>2006.0</td>\n",
              "      <td>Role-Playing</td>\n",
              "      <td>Nintendo</td>\n",
              "      <td>6.42</td>\n",
              "      <td>4.52</td>\n",
              "      <td>6.04</td>\n",
              "      <td>1.37</td>\n",
              "      <td>18.36</td>\n",
              "    </tr>\n",
              "    <tr>\n",
              "      <th>21</th>\n",
              "      <td>22</td>\n",
              "      <td>Super Mario Land</td>\n",
              "      <td>GB</td>\n",
              "      <td>1989.0</td>\n",
              "      <td>Platform</td>\n",
              "      <td>Nintendo</td>\n",
              "      <td>10.83</td>\n",
              "      <td>2.71</td>\n",
              "      <td>4.18</td>\n",
              "      <td>0.42</td>\n",
              "      <td>18.14</td>\n",
              "    </tr>\n",
              "    <tr>\n",
              "      <th>22</th>\n",
              "      <td>23</td>\n",
              "      <td>Super Mario Bros. 3</td>\n",
              "      <td>NES</td>\n",
              "      <td>1988.0</td>\n",
              "      <td>Platform</td>\n",
              "      <td>Nintendo</td>\n",
              "      <td>9.54</td>\n",
              "      <td>3.44</td>\n",
              "      <td>3.84</td>\n",
              "      <td>0.46</td>\n",
              "      <td>17.28</td>\n",
              "    </tr>\n",
              "    <tr>\n",
              "      <th>23</th>\n",
              "      <td>24</td>\n",
              "      <td>Grand Theft Auto V</td>\n",
              "      <td>X360</td>\n",
              "      <td>2013.0</td>\n",
              "      <td>Action</td>\n",
              "      <td>Take-Two Interactive</td>\n",
              "      <td>9.63</td>\n",
              "      <td>5.31</td>\n",
              "      <td>0.06</td>\n",
              "      <td>1.38</td>\n",
              "      <td>16.38</td>\n",
              "    </tr>\n",
              "    <tr>\n",
              "      <th>24</th>\n",
              "      <td>25</td>\n",
              "      <td>Grand Theft Auto: Vice City</td>\n",
              "      <td>PS2</td>\n",
              "      <td>2002.0</td>\n",
              "      <td>Action</td>\n",
              "      <td>Take-Two Interactive</td>\n",
              "      <td>8.41</td>\n",
              "      <td>5.49</td>\n",
              "      <td>0.47</td>\n",
              "      <td>1.78</td>\n",
              "      <td>16.15</td>\n",
              "    </tr>\n",
              "    <tr>\n",
              "      <th>25</th>\n",
              "      <td>26</td>\n",
              "      <td>Pokemon Ruby/Pokemon Sapphire</td>\n",
              "      <td>GBA</td>\n",
              "      <td>2002.0</td>\n",
              "      <td>Role-Playing</td>\n",
              "      <td>Nintendo</td>\n",
              "      <td>6.06</td>\n",
              "      <td>3.90</td>\n",
              "      <td>5.38</td>\n",
              "      <td>0.50</td>\n",
              "      <td>15.85</td>\n",
              "    </tr>\n",
              "    <tr>\n",
              "      <th>26</th>\n",
              "      <td>27</td>\n",
              "      <td>Pokemon Black/Pokemon White</td>\n",
              "      <td>DS</td>\n",
              "      <td>2010.0</td>\n",
              "      <td>Role-Playing</td>\n",
              "      <td>Nintendo</td>\n",
              "      <td>5.57</td>\n",
              "      <td>3.28</td>\n",
              "      <td>5.65</td>\n",
              "      <td>0.82</td>\n",
              "      <td>15.32</td>\n",
              "    </tr>\n",
              "    <tr>\n",
              "      <th>27</th>\n",
              "      <td>28</td>\n",
              "      <td>Brain Age 2: More Training in Minutes a Day</td>\n",
              "      <td>DS</td>\n",
              "      <td>2005.0</td>\n",
              "      <td>Puzzle</td>\n",
              "      <td>Nintendo</td>\n",
              "      <td>3.44</td>\n",
              "      <td>5.36</td>\n",
              "      <td>5.32</td>\n",
              "      <td>1.18</td>\n",
              "      <td>15.30</td>\n",
              "    </tr>\n",
              "    <tr>\n",
              "      <th>28</th>\n",
              "      <td>29</td>\n",
              "      <td>Gran Turismo 3: A-Spec</td>\n",
              "      <td>PS2</td>\n",
              "      <td>2001.0</td>\n",
              "      <td>Racing</td>\n",
              "      <td>Sony Computer Entertainment</td>\n",
              "      <td>6.85</td>\n",
              "      <td>5.09</td>\n",
              "      <td>1.87</td>\n",
              "      <td>1.16</td>\n",
              "      <td>14.98</td>\n",
              "    </tr>\n",
              "    <tr>\n",
              "      <th>29</th>\n",
              "      <td>30</td>\n",
              "      <td>Call of Duty: Modern Warfare 3</td>\n",
              "      <td>X360</td>\n",
              "      <td>2011.0</td>\n",
              "      <td>Shooter</td>\n",
              "      <td>Activision</td>\n",
              "      <td>9.03</td>\n",
              "      <td>4.28</td>\n",
              "      <td>0.13</td>\n",
              "      <td>1.32</td>\n",
              "      <td>14.76</td>\n",
              "    </tr>\n",
              "    <tr>\n",
              "      <th>30</th>\n",
              "      <td>31</td>\n",
              "      <td>Pokémon Yellow: Special Pikachu Edition</td>\n",
              "      <td>GB</td>\n",
              "      <td>1998.0</td>\n",
              "      <td>Role-Playing</td>\n",
              "      <td>Nintendo</td>\n",
              "      <td>5.89</td>\n",
              "      <td>5.04</td>\n",
              "      <td>3.12</td>\n",
              "      <td>0.59</td>\n",
              "      <td>14.64</td>\n",
              "    </tr>\n",
              "    <tr>\n",
              "      <th>31</th>\n",
              "      <td>32</td>\n",
              "      <td>Call of Duty: Black Ops</td>\n",
              "      <td>X360</td>\n",
              "      <td>2010.0</td>\n",
              "      <td>Shooter</td>\n",
              "      <td>Activision</td>\n",
              "      <td>9.67</td>\n",
              "      <td>3.73</td>\n",
              "      <td>0.11</td>\n",
              "      <td>1.13</td>\n",
              "      <td>14.64</td>\n",
              "    </tr>\n",
              "    <tr>\n",
              "      <th>32</th>\n",
              "      <td>33</td>\n",
              "      <td>Pokemon X/Pokemon Y</td>\n",
              "      <td>3DS</td>\n",
              "      <td>2013.0</td>\n",
              "      <td>Role-Playing</td>\n",
              "      <td>Nintendo</td>\n",
              "      <td>5.17</td>\n",
              "      <td>4.05</td>\n",
              "      <td>4.34</td>\n",
              "      <td>0.79</td>\n",
              "      <td>14.35</td>\n",
              "    </tr>\n",
              "    <tr>\n",
              "      <th>33</th>\n",
              "      <td>34</td>\n",
              "      <td>Call of Duty: Black Ops 3</td>\n",
              "      <td>PS4</td>\n",
              "      <td>2015.0</td>\n",
              "      <td>Shooter</td>\n",
              "      <td>Activision</td>\n",
              "      <td>5.77</td>\n",
              "      <td>5.81</td>\n",
              "      <td>0.35</td>\n",
              "      <td>2.31</td>\n",
              "      <td>14.24</td>\n",
              "    </tr>\n",
              "    <tr>\n",
              "      <th>34</th>\n",
              "      <td>35</td>\n",
              "      <td>Call of Duty: Black Ops II</td>\n",
              "      <td>PS3</td>\n",
              "      <td>2012.0</td>\n",
              "      <td>Shooter</td>\n",
              "      <td>Activision</td>\n",
              "      <td>4.99</td>\n",
              "      <td>5.88</td>\n",
              "      <td>0.65</td>\n",
              "      <td>2.52</td>\n",
              "      <td>14.03</td>\n",
              "    </tr>\n",
              "    <tr>\n",
              "      <th>35</th>\n",
              "      <td>36</td>\n",
              "      <td>Call of Duty: Black Ops II</td>\n",
              "      <td>X360</td>\n",
              "      <td>2012.0</td>\n",
              "      <td>Shooter</td>\n",
              "      <td>Activision</td>\n",
              "      <td>8.25</td>\n",
              "      <td>4.30</td>\n",
              "      <td>0.07</td>\n",
              "      <td>1.12</td>\n",
              "      <td>13.73</td>\n",
              "    </tr>\n",
              "    <tr>\n",
              "      <th>36</th>\n",
              "      <td>37</td>\n",
              "      <td>Call of Duty: Modern Warfare 2</td>\n",
              "      <td>X360</td>\n",
              "      <td>2009.0</td>\n",
              "      <td>Shooter</td>\n",
              "      <td>Activision</td>\n",
              "      <td>8.52</td>\n",
              "      <td>3.63</td>\n",
              "      <td>0.08</td>\n",
              "      <td>1.29</td>\n",
              "      <td>13.51</td>\n",
              "    </tr>\n",
              "    <tr>\n",
              "      <th>37</th>\n",
              "      <td>38</td>\n",
              "      <td>Call of Duty: Modern Warfare 3</td>\n",
              "      <td>PS3</td>\n",
              "      <td>2011.0</td>\n",
              "      <td>Shooter</td>\n",
              "      <td>Activision</td>\n",
              "      <td>5.54</td>\n",
              "      <td>5.82</td>\n",
              "      <td>0.49</td>\n",
              "      <td>1.62</td>\n",
              "      <td>13.46</td>\n",
              "    </tr>\n",
              "    <tr>\n",
              "      <th>38</th>\n",
              "      <td>39</td>\n",
              "      <td>Grand Theft Auto III</td>\n",
              "      <td>PS2</td>\n",
              "      <td>2001.0</td>\n",
              "      <td>Action</td>\n",
              "      <td>Take-Two Interactive</td>\n",
              "      <td>6.99</td>\n",
              "      <td>4.51</td>\n",
              "      <td>0.30</td>\n",
              "      <td>1.30</td>\n",
              "      <td>13.10</td>\n",
              "    </tr>\n",
              "    <tr>\n",
              "      <th>39</th>\n",
              "      <td>40</td>\n",
              "      <td>Super Smash Bros. Brawl</td>\n",
              "      <td>Wii</td>\n",
              "      <td>2008.0</td>\n",
              "      <td>Fighting</td>\n",
              "      <td>Nintendo</td>\n",
              "      <td>6.75</td>\n",
              "      <td>2.61</td>\n",
              "      <td>2.66</td>\n",
              "      <td>1.02</td>\n",
              "      <td>13.04</td>\n",
              "    </tr>\n",
              "    <tr>\n",
              "      <th>40</th>\n",
              "      <td>41</td>\n",
              "      <td>Call of Duty: Black Ops</td>\n",
              "      <td>PS3</td>\n",
              "      <td>2010.0</td>\n",
              "      <td>Shooter</td>\n",
              "      <td>Activision</td>\n",
              "      <td>5.98</td>\n",
              "      <td>4.44</td>\n",
              "      <td>0.48</td>\n",
              "      <td>1.83</td>\n",
              "      <td>12.73</td>\n",
              "    </tr>\n",
              "    <tr>\n",
              "      <th>41</th>\n",
              "      <td>42</td>\n",
              "      <td>Animal Crossing: Wild World</td>\n",
              "      <td>DS</td>\n",
              "      <td>2005.0</td>\n",
              "      <td>Simulation</td>\n",
              "      <td>Nintendo</td>\n",
              "      <td>2.55</td>\n",
              "      <td>3.52</td>\n",
              "      <td>5.33</td>\n",
              "      <td>0.88</td>\n",
              "      <td>12.27</td>\n",
              "    </tr>\n",
              "    <tr>\n",
              "      <th>42</th>\n",
              "      <td>43</td>\n",
              "      <td>Mario Kart 7</td>\n",
              "      <td>3DS</td>\n",
              "      <td>2011.0</td>\n",
              "      <td>Racing</td>\n",
              "      <td>Nintendo</td>\n",
              "      <td>4.74</td>\n",
              "      <td>3.91</td>\n",
              "      <td>2.67</td>\n",
              "      <td>0.89</td>\n",
              "      <td>12.21</td>\n",
              "    </tr>\n",
              "    <tr>\n",
              "      <th>43</th>\n",
              "      <td>44</td>\n",
              "      <td>Halo 3</td>\n",
              "      <td>X360</td>\n",
              "      <td>2007.0</td>\n",
              "      <td>Shooter</td>\n",
              "      <td>Microsoft Game Studios</td>\n",
              "      <td>7.97</td>\n",
              "      <td>2.83</td>\n",
              "      <td>0.13</td>\n",
              "      <td>1.21</td>\n",
              "      <td>12.14</td>\n",
              "    </tr>\n",
              "    <tr>\n",
              "      <th>44</th>\n",
              "      <td>45</td>\n",
              "      <td>Grand Theft Auto V</td>\n",
              "      <td>PS4</td>\n",
              "      <td>2014.0</td>\n",
              "      <td>Action</td>\n",
              "      <td>Take-Two Interactive</td>\n",
              "      <td>3.80</td>\n",
              "      <td>5.81</td>\n",
              "      <td>0.36</td>\n",
              "      <td>2.02</td>\n",
              "      <td>11.98</td>\n",
              "    </tr>\n",
              "    <tr>\n",
              "      <th>45</th>\n",
              "      <td>46</td>\n",
              "      <td>Pokemon HeartGold/Pokemon SoulSilver</td>\n",
              "      <td>DS</td>\n",
              "      <td>2009.0</td>\n",
              "      <td>Action</td>\n",
              "      <td>Nintendo</td>\n",
              "      <td>4.40</td>\n",
              "      <td>2.77</td>\n",
              "      <td>3.96</td>\n",
              "      <td>0.77</td>\n",
              "      <td>11.90</td>\n",
              "    </tr>\n",
              "    <tr>\n",
              "      <th>46</th>\n",
              "      <td>47</td>\n",
              "      <td>Super Mario 64</td>\n",
              "      <td>N64</td>\n",
              "      <td>1996.0</td>\n",
              "      <td>Platform</td>\n",
              "      <td>Nintendo</td>\n",
              "      <td>6.91</td>\n",
              "      <td>2.85</td>\n",
              "      <td>1.91</td>\n",
              "      <td>0.23</td>\n",
              "      <td>11.89</td>\n",
              "    </tr>\n",
              "    <tr>\n",
              "      <th>47</th>\n",
              "      <td>48</td>\n",
              "      <td>Gran Turismo 4</td>\n",
              "      <td>PS2</td>\n",
              "      <td>2004.0</td>\n",
              "      <td>Racing</td>\n",
              "      <td>Sony Computer Entertainment</td>\n",
              "      <td>3.01</td>\n",
              "      <td>0.01</td>\n",
              "      <td>1.10</td>\n",
              "      <td>7.53</td>\n",
              "      <td>11.66</td>\n",
              "    </tr>\n",
              "    <tr>\n",
              "      <th>48</th>\n",
              "      <td>49</td>\n",
              "      <td>Super Mario Galaxy</td>\n",
              "      <td>Wii</td>\n",
              "      <td>2007.0</td>\n",
              "      <td>Platform</td>\n",
              "      <td>Nintendo</td>\n",
              "      <td>6.16</td>\n",
              "      <td>3.40</td>\n",
              "      <td>1.20</td>\n",
              "      <td>0.76</td>\n",
              "      <td>11.52</td>\n",
              "    </tr>\n",
              "    <tr>\n",
              "      <th>49</th>\n",
              "      <td>50</td>\n",
              "      <td>Pokemon Omega Ruby/Pokemon Alpha Sapphire</td>\n",
              "      <td>3DS</td>\n",
              "      <td>2014.0</td>\n",
              "      <td>Role-Playing</td>\n",
              "      <td>Nintendo</td>\n",
              "      <td>4.23</td>\n",
              "      <td>3.37</td>\n",
              "      <td>3.08</td>\n",
              "      <td>0.65</td>\n",
              "      <td>11.33</td>\n",
              "    </tr>\n",
              "  </tbody>\n",
              "</table>\n",
              "</div>"
            ],
            "text/plain": [
              "    Rank  ... Global_Sales\n",
              "0      1  ...        82.74\n",
              "1      2  ...        40.24\n",
              "2      3  ...        35.82\n",
              "3      4  ...        33.00\n",
              "4      5  ...        31.37\n",
              "5      6  ...        30.26\n",
              "6      7  ...        30.01\n",
              "7      8  ...        29.02\n",
              "8      9  ...        28.62\n",
              "9     10  ...        28.31\n",
              "10    11  ...        24.76\n",
              "11    12  ...        23.42\n",
              "12    13  ...        23.10\n",
              "13    14  ...        22.72\n",
              "14    15  ...        22.00\n",
              "15    16  ...        21.82\n",
              "16    17  ...        21.40\n",
              "17    18  ...        20.81\n",
              "18    19  ...        20.61\n",
              "19    20  ...        20.22\n",
              "20    21  ...        18.36\n",
              "21    22  ...        18.14\n",
              "22    23  ...        17.28\n",
              "23    24  ...        16.38\n",
              "24    25  ...        16.15\n",
              "25    26  ...        15.85\n",
              "26    27  ...        15.32\n",
              "27    28  ...        15.30\n",
              "28    29  ...        14.98\n",
              "29    30  ...        14.76\n",
              "30    31  ...        14.64\n",
              "31    32  ...        14.64\n",
              "32    33  ...        14.35\n",
              "33    34  ...        14.24\n",
              "34    35  ...        14.03\n",
              "35    36  ...        13.73\n",
              "36    37  ...        13.51\n",
              "37    38  ...        13.46\n",
              "38    39  ...        13.10\n",
              "39    40  ...        13.04\n",
              "40    41  ...        12.73\n",
              "41    42  ...        12.27\n",
              "42    43  ...        12.21\n",
              "43    44  ...        12.14\n",
              "44    45  ...        11.98\n",
              "45    46  ...        11.90\n",
              "46    47  ...        11.89\n",
              "47    48  ...        11.66\n",
              "48    49  ...        11.52\n",
              "49    50  ...        11.33\n",
              "\n",
              "[50 rows x 11 columns]"
            ]
          },
          "metadata": {},
          "execution_count": 12
        }
      ]
    },
    {
      "cell_type": "markdown",
      "metadata": {
        "id": "3c7e4134"
      },
      "source": [
        "Question 1:\n",
        "How does the shares of the market between different companies change during the past decade? (*inner cause? e.g. A great game realse?)\n",
        "\n",
        "We plan to find out each publisher's game sales since 2010 till whenever we have data (2017 in this case). We will then merge the information by ploting the data out and visualize the change of shares of market by each company. Moreover, we can select those companies with a peak in game sales and dig out which game is remarkable"
      ],
      "id": "3c7e4134"
    },
    {
      "cell_type": "code",
      "metadata": {
        "id": "504e4b9f"
      },
      "source": [
        "Games0 = vgs.loc[vgs[\"Year\"]==2010].groupby(\"Publisher\")[\"Global_Sales\"].sum()\n",
        "Games1 = vgs.loc[vgs[\"Year\"]==2011].groupby(\"Publisher\")[\"Global_Sales\"].sum()\n",
        "Games2 = vgs.loc[vgs[\"Year\"]==2012].groupby(\"Publisher\")[\"Global_Sales\"].sum()\n",
        "Games3 = vgs.loc[vgs[\"Year\"]==2013].groupby(\"Publisher\")[\"Global_Sales\"].sum()\n",
        "Games4 = vgs.loc[vgs[\"Year\"]==2014].groupby(\"Publisher\")[\"Global_Sales\"].sum()\n",
        "Games5 = vgs.loc[vgs[\"Year\"]==2015].groupby(\"Publisher\")[\"Global_Sales\"].sum()\n",
        "Games6 = vgs.loc[vgs[\"Year\"]==2016].groupby(\"Publisher\")[\"Global_Sales\"].sum()\n",
        "Games7 = vgs.loc[vgs[\"Year\"]==2017].groupby(\"Publisher\")[\"Global_Sales\"].sum()"
      ],
      "id": "504e4b9f",
      "execution_count": 13,
      "outputs": []
    },
    {
      "cell_type": "markdown",
      "metadata": {
        "id": "74ba355c"
      },
      "source": [
        "# todo\n"
      ],
      "id": "74ba355c"
    },
    {
      "cell_type": "markdown",
      "metadata": {
        "id": "0e4186e6"
      },
      "source": [
        "Question2: Is there a difference in consumer's preference throughout different regions?\n",
        "We plan to investigate each Genre of game's sales in different regions. By summing the sales, we can find out the greatest selling genre in each region. For the futher analysis, we will compare each genre's proportion with its own region latter and visualize it."
      ],
      "id": "0e4186e6"
    },
    {
      "cell_type": "code",
      "metadata": {
        "id": "7e8c11ac"
      },
      "source": [
        "NA_genre = vgs.groupby(\"Genre\")[\"NA_Sales\"].sum()\n",
        "EU_genre = vgs.groupby(\"Genre\")[\"EU_Sales\"].sum()\n",
        "JP_genre = vgs.groupby(\"Genre\")[\"JP_Sales\"].sum()\n",
        "OT_genre = vgs.groupby(\"Genre\")[\"Other_Sales\"].sum()"
      ],
      "id": "7e8c11ac",
      "execution_count": 14,
      "outputs": []
    },
    {
      "cell_type": "code",
      "metadata": {
        "id": "07e7e905",
        "colab": {
          "base_uri": "https://localhost:8080/"
        },
        "outputId": "50b9013b-9a24-441b-a83b-2814ee8ee400"
      },
      "source": [
        "NA_genre"
      ],
      "id": "07e7e905",
      "execution_count": 17,
      "outputs": [
        {
          "output_type": "execute_result",
          "data": {
            "text/plain": [
              "Genre\n",
              "Action          877.83\n",
              "Adventure       105.80\n",
              "Fighting        223.59\n",
              "Misc            410.24\n",
              "Platform        447.05\n",
              "Puzzle          123.78\n",
              "Racing          359.42\n",
              "Role-Playing    327.28\n",
              "Shooter         582.60\n",
              "Simulation      183.31\n",
              "Sports          683.35\n",
              "Strategy         68.70\n",
              "Name: NA_Sales, dtype: float64"
            ]
          },
          "metadata": {},
          "execution_count": 17
        }
      ]
    },
    {
      "cell_type": "code",
      "metadata": {
        "id": "4f12afc9",
        "colab": {
          "base_uri": "https://localhost:8080/",
          "height": 164
        },
        "outputId": "24a54d5a-dad0-4fc4-8b8b-7023b1b7a67f"
      },
      "source": [
        "EU"
      ],
      "id": "4f12afc9",
      "execution_count": 18,
      "outputs": [
        {
          "output_type": "error",
          "ename": "NameError",
          "evalue": "ignored",
          "traceback": [
            "\u001b[0;31m---------------------------------------------------------------------------\u001b[0m",
            "\u001b[0;31mNameError\u001b[0m                                 Traceback (most recent call last)",
            "\u001b[0;32m<ipython-input-18-07551018366a>\u001b[0m in \u001b[0;36m<module>\u001b[0;34m()\u001b[0m\n\u001b[0;32m----> 1\u001b[0;31m \u001b[0mEU\u001b[0m\u001b[0;34m\u001b[0m\u001b[0;34m\u001b[0m\u001b[0m\n\u001b[0m",
            "\u001b[0;31mNameError\u001b[0m: name 'EU' is not defined"
          ]
        }
      ]
    },
    {
      "cell_type": "code",
      "metadata": {
        "id": "a177efbc"
      },
      "source": [
        "JP\n"
      ],
      "id": "a177efbc",
      "execution_count": null,
      "outputs": []
    },
    {
      "cell_type": "code",
      "metadata": {
        "id": "9ce12d59"
      },
      "source": [
        "Other"
      ],
      "id": "9ce12d59",
      "execution_count": null,
      "outputs": []
    },
    {
      "cell_type": "markdown",
      "metadata": {
        "id": "884d2916"
      },
      "source": [
        "Question3: The different in size of the market of different platforms?\n",
        "\n",
        "Our plan is to find out the total sales of each game in every platform in this dataset, but we might meet a trouble here since Game quality is a factor influencing sales. The sales can't explain everything about a size of the market. We will see if we can find another dataset or a better way to analysis our data."
      ],
      "id": "884d2916"
    },
    {
      "cell_type": "code",
      "metadata": {
        "id": "600f690a"
      },
      "source": [
        "platform=vgs.groupby(\"Platform\")[\"Global_Sales\"].sum()\n",
        "platform"
      ],
      "id": "600f690a",
      "execution_count": null,
      "outputs": []
    },
    {
      "cell_type": "markdown",
      "metadata": {
        "id": "92b8a846"
      },
      "source": [
        "### Data Set 2: Steam database"
      ],
      "id": "92b8a846"
    },
    {
      "cell_type": "markdown",
      "metadata": {
        "id": "993e370e"
      },
      "source": [
        "First, we scrap and generate the dataframe using several pandas functions"
      ],
      "id": "993e370e"
    },
    {
      "cell_type": "code",
      "metadata": {
        "id": "1f90cf7e"
      },
      "source": [
        "header = {'User-Agent': 'Mozilla/5.0 (Macintosh; Intel Mac OS X 10_10_1) AppleWebKit/537.36 (KHTML, like Gecko) Chrome/39.0.2171.95 Safari/537.36'}\n",
        "response = requests.get('https://store.steampowered.com/stats/',headers=header)\n",
        "resource = response.text"
      ],
      "id": "1f90cf7e",
      "execution_count": null,
      "outputs": []
    },
    {
      "cell_type": "code",
      "metadata": {
        "id": "8303f47f"
      },
      "source": [
        "souped_resource = BeautifulSoup(resource,\"html.parser\")\n",
        "prettify_resource = BeautifulSoup.prettify(souped_resource)\n",
        "soup = BeautifulSoup(prettify_resource)\n",
        "table_found = soup.find(\"div\",{'id' : \"detailStats\"})"
      ],
      "id": "8303f47f",
      "execution_count": null,
      "outputs": []
    },
    {
      "cell_type": "code",
      "metadata": {
        "id": "7y5qfSAJBn7p"
      },
      "source": [
        "table_found = re.sub(\"display: none;\",'',str(table_found))"
      ],
      "id": "7y5qfSAJBn7p",
      "execution_count": null,
      "outputs": []
    },
    {
      "cell_type": "code",
      "metadata": {
        "id": "0dc0d723"
      },
      "source": [
        "table = pd.read_html(str(table_found))"
      ],
      "id": "0dc0d723",
      "execution_count": null,
      "outputs": []
    },
    {
      "cell_type": "code",
      "metadata": {
        "id": "ca528dd6"
      },
      "source": [
        "df_steam = pd.DataFrame(table[0])"
      ],
      "id": "ca528dd6",
      "execution_count": null,
      "outputs": []
    },
    {
      "cell_type": "code",
      "metadata": {
        "id": "ebc5a4b9"
      },
      "source": [
        "df_steam"
      ],
      "id": "ebc5a4b9",
      "execution_count": null,
      "outputs": []
    },
    {
      "cell_type": "code",
      "metadata": {
        "id": "65729dad"
      },
      "source": [
        "df_steam = df_steam.loc[2:]"
      ],
      "id": "65729dad",
      "execution_count": null,
      "outputs": []
    },
    {
      "cell_type": "code",
      "metadata": {
        "id": "4ef09471"
      },
      "source": [
        "#drop blank columns\n",
        "df_steam =df_steam.drop(columns = 2)\n",
        "df_steam =df_steam.drop(columns = 4)"
      ],
      "id": "4ef09471",
      "execution_count": null,
      "outputs": []
    },
    {
      "cell_type": "code",
      "metadata": {
        "id": "81b5c988"
      },
      "source": [
        "#Set the columns index\n",
        "df_steam.columns=['Current Players','Peak Today','Game']"
      ],
      "id": "81b5c988",
      "execution_count": null,
      "outputs": []
    },
    {
      "cell_type": "code",
      "metadata": {
        "id": "H-0oJ7DF7EQJ"
      },
      "source": [
        "#set the name of the games throughtout all database the same \n",
        "df_steam['Game'][5] = 'PLAYERUNKNOWN\\'S BATTLEGROUNDS'"
      ],
      "id": "H-0oJ7DF7EQJ",
      "execution_count": null,
      "outputs": []
    },
    {
      "cell_type": "code",
      "metadata": {
        "id": "e55cec7a"
      },
      "source": [
        "df_steam"
      ],
      "id": "e55cec7a",
      "execution_count": null,
      "outputs": []
    },
    {
      "cell_type": "markdown",
      "metadata": {
        "id": "vRYHjYKpPO2T"
      },
      "source": [
        "### Data Set 3: Previous players count for games on steam\n"
      ],
      "id": "vRYHjYKpPO2T"
    },
    {
      "cell_type": "code",
      "metadata": {
        "id": "NK52QgIfV3oK"
      },
      "source": [
        "# Read the csv file\n",
        "df_previous_user = pd.read_csv(\"/content/drive/MyDrive/Colab Notebooks/SteamCharts.csv\",encoding='latin1')\n",
        "df_previous_user"
      ],
      "id": "NK52QgIfV3oK",
      "execution_count": null,
      "outputs": []
    },
    {
      "cell_type": "markdown",
      "metadata": {
        "id": "Ukh89WA0kH06"
      },
      "source": [
        "---"
      ],
      "id": "Ukh89WA0kH06"
    },
    {
      "cell_type": "markdown",
      "metadata": {
        "id": "ZUYIN2SukXEg"
      },
      "source": [
        "## Find out the data we need from different datasets"
      ],
      "id": "ZUYIN2SukXEg"
    },
    {
      "cell_type": "markdown",
      "metadata": {
        "id": "4lR9oHRdVuZi"
      },
      "source": [
        "For this part, we are going to find the ranking of top 100 games from 2016 till present.  \n",
        "Afterwards, we will see the change on rankings and possibly find out a trend and the average years a game can be considered popular.  \n",
        "In this part popular is defined as the number of players is in top 100\n",
        "\n",
        "\n"
      ],
      "id": "4lR9oHRdVuZi"
    },
    {
      "cell_type": "markdown",
      "metadata": {
        "id": "C4LJI5gzmu-5"
      },
      "source": [
        "### A little formatting stuff for the scraped dataframe"
      ],
      "id": "C4LJI5gzmu-5"
    },
    {
      "cell_type": "code",
      "metadata": {
        "id": "a_b6xnBYFEXt"
      },
      "source": [
        "df_steam_now = df_steam"
      ],
      "id": "a_b6xnBYFEXt",
      "execution_count": null,
      "outputs": []
    },
    {
      "cell_type": "code",
      "metadata": {
        "id": "pnDvFMfOpcYB"
      },
      "source": [
        "df_steam_now = df_steam_now.reset_index(drop = True)"
      ],
      "id": "pnDvFMfOpcYB",
      "execution_count": null,
      "outputs": []
    },
    {
      "cell_type": "code",
      "metadata": {
        "id": "-RpInUwiV3qW"
      },
      "source": [
        "# Add two columns:Year and Ranking for the data we scraped from steam(which is the present ranking)\n",
        "i = 0\n",
        "df_steam_now['Year'] = 2021\n",
        "df_steam_now['Ranking'] = np.nan\n",
        "for i in range(len(df_steam_now['Ranking'])):\n",
        "  df_steam_now['Ranking'][i] = int(i+1)"
      ],
      "id": "-RpInUwiV3qW",
      "execution_count": null,
      "outputs": []
    },
    {
      "cell_type": "code",
      "metadata": {
        "id": "4SXNDA_9V3sb"
      },
      "source": [
        "df_steam_now"
      ],
      "id": "4SXNDA_9V3sb",
      "execution_count": null,
      "outputs": []
    },
    {
      "cell_type": "code",
      "metadata": {
        "id": "iQlgXXHnqNUd"
      },
      "source": [
        "# drop Current Players and Peak Today as we don't need to compare these data later on\n",
        "top_game = df_steam_now\n",
        "del top_game['Current Players']\n",
        "del top_game['Peak Today']\n",
        "\n",
        "#set the index of top_game the same as df_previous_user\n",
        "top_game.rename({'Game': 'gamename', 'Year': 'year'}, axis=1, inplace=True)\n",
        "top_game"
      ],
      "id": "iQlgXXHnqNUd",
      "execution_count": null,
      "outputs": []
    },
    {
      "cell_type": "markdown",
      "metadata": {
        "id": "HyUQEhwfPcXV"
      },
      "source": [
        "### Collect data from all database"
      ],
      "id": "HyUQEhwfPcXV"
    },
    {
      "cell_type": "markdown",
      "metadata": {
        "id": "xTKPA23hnkIE"
      },
      "source": [
        "For previous ranking, we are ranking them based on the average players."
      ],
      "id": "xTKPA23hnkIE"
    },
    {
      "cell_type": "markdown",
      "metadata": {
        "id": "kFQFiNeUn4t3"
      },
      "source": [
        "#### 2020 Ranking"
      ],
      "id": "kFQFiNeUn4t3"
    },
    {
      "cell_type": "code",
      "metadata": {
        "id": "DNrFRzbOrqVB"
      },
      "source": [
        "data_2020 = df_previous_user.loc[(df_previous_user['year']==2020) & (df_previous_user['month']==\"November \")]\n",
        "\n",
        "#delete unrelated columns\n",
        "del data_2020['gain']\n",
        "del data_2020['peak']\n",
        "del data_2020['avg_peak_perc']\n",
        "del data_2020['month']\n",
        "\n",
        "#sort by average players\n",
        "data_2020 = data_2020.sort_values(by=['avg'],ascending= False)\n",
        "\n",
        "#find top 100\n",
        "data_2020 = data_2020[:100]\n",
        "\n",
        "#reset index\n",
        "data_2020 = data_2020.reset_index(drop= True)\n",
        "\n",
        "#set ranking\n",
        "i = 0\n",
        "data_2020['Ranking'] = np.nan\n",
        "for i in range(len(data_2020['Ranking'])):\n",
        "  data_2020['Ranking'][i] = int(i+1)\n",
        "\n",
        "# delete average players\n",
        "del data_2020['avg']"
      ],
      "id": "DNrFRzbOrqVB",
      "execution_count": null,
      "outputs": []
    },
    {
      "cell_type": "code",
      "metadata": {
        "id": "nsyR9vqBC3MP"
      },
      "source": [
        "#append to top_game\n",
        "top_game = top_game.append(data_2020)"
      ],
      "id": "nsyR9vqBC3MP",
      "execution_count": null,
      "outputs": []
    },
    {
      "cell_type": "markdown",
      "metadata": {
        "id": "1rZU2XxwoFJz"
      },
      "source": [
        "#### 2019 Ranking"
      ],
      "id": "1rZU2XxwoFJz"
    },
    {
      "cell_type": "code",
      "metadata": {
        "id": "WWWghvENyJt2"
      },
      "source": [
        "data_2019 = df_previous_user.loc[(df_previous_user['year']==2019) & (df_previous_user['month']==\"November \")]\n",
        "\n",
        "#delete unrelated columns\n",
        "del data_2019['gain']\n",
        "del data_2019['peak']\n",
        "del data_2019['avg_peak_perc']\n",
        "del data_2019['month']\n",
        "\n",
        "#sort by average players\n",
        "data_2019 = data_2019.sort_values(by=['avg'],ascending= False)\n",
        "\n",
        "#find top 100\n",
        "data_2019 = data_2019[:100]\n",
        "\n",
        "#reset index\n",
        "data_2019 = data_2019.reset_index(drop= True)\n",
        "\n",
        "#set ranking\n",
        "i = 0\n",
        "data_2019['Ranking'] = np.nan\n",
        "for i in range(len(data_2019['Ranking'])):\n",
        "  data_2019['Ranking'][i] = int(i+1)\n",
        "\n",
        "# delete average players\n",
        "del data_2019['avg']"
      ],
      "id": "WWWghvENyJt2",
      "execution_count": null,
      "outputs": []
    },
    {
      "cell_type": "code",
      "metadata": {
        "id": "RDP8xLAKxcpA"
      },
      "source": [
        "#append to top_game\n",
        "top_game = top_game.append(data_2019)"
      ],
      "id": "RDP8xLAKxcpA",
      "execution_count": null,
      "outputs": []
    },
    {
      "cell_type": "markdown",
      "metadata": {
        "id": "7fqeZed-oH1I"
      },
      "source": [
        "#### 2018 Ranking"
      ],
      "id": "7fqeZed-oH1I"
    },
    {
      "cell_type": "code",
      "metadata": {
        "id": "8FMoKTHK4J-S"
      },
      "source": [
        "data_2018 = df_previous_user.loc[(df_previous_user['year']==2018) & (df_previous_user['month']==\"November \")]\n",
        "\n",
        "#delete unrelated columns\n",
        "del data_2018['gain']\n",
        "del data_2018['peak']\n",
        "del data_2018['avg_peak_perc']\n",
        "del data_2018['month']\t\n",
        "\n",
        "#sort by average players\n",
        "data_2018 = data_2018.sort_values(by=['avg'],ascending= False)\n",
        "\n",
        "#find top 100\n",
        "data_2018 = data_2018[:100]\n",
        "\n",
        "#reset index\n",
        "data_2018 = data_2018.reset_index(drop= True)\n",
        "\n",
        "#set ranking\n",
        "i = 0\n",
        "data_2018['Ranking'] = np.nan\n",
        "for i in range(len(data_2018['Ranking'])):\n",
        "  data_2018['Ranking'][i] = int(i+1)\n",
        "\n",
        "# delete average players\n",
        "del data_2018['avg']\n",
        "data_2018"
      ],
      "id": "8FMoKTHK4J-S",
      "execution_count": null,
      "outputs": []
    },
    {
      "cell_type": "code",
      "metadata": {
        "id": "ADifl1F8xgFD"
      },
      "source": [
        "#append to top_game\n",
        "top_game = top_game.append(data_2018)\n",
        "top_game = top_game.reset_index(drop = True)"
      ],
      "id": "ADifl1F8xgFD",
      "execution_count": null,
      "outputs": []
    },
    {
      "cell_type": "markdown",
      "metadata": {
        "id": "1ZE6jmTqoKh9"
      },
      "source": [
        "#### 2017 Ranking"
      ],
      "id": "1ZE6jmTqoKh9"
    },
    {
      "cell_type": "code",
      "metadata": {
        "id": "PmsomppB6p1z"
      },
      "source": [
        "data_2017 = df_previous_user.loc[(df_previous_user['year']==2017) & (df_previous_user['month']==\"November \")]\n",
        "\n",
        "#delete unrelated columns\n",
        "del data_2017['gain']\n",
        "del data_2017['peak']\n",
        "del data_2017['avg_peak_perc']\n",
        "del data_2017['month']\t\n",
        "\n",
        "#sort by average players\n",
        "data_2017 = data_2017.sort_values(by=['avg'],ascending= False)\n",
        "\n",
        "#find top 100\n",
        "data_2017 = data_2017[:100]\n",
        "\n",
        "#reset index\n",
        "data_2017 = data_2017.reset_index(drop= True)\n",
        "\n",
        "#set ranking\n",
        "i = 0\n",
        "data_2017['Ranking'] = np.nan\n",
        "for i in range(len(data_2017['Ranking'])):\n",
        "  data_2017['Ranking'][i] = int(i+1)\n",
        "\n",
        "# delete average players\n",
        "del data_2017['avg']\n"
      ],
      "id": "PmsomppB6p1z",
      "execution_count": null,
      "outputs": []
    },
    {
      "cell_type": "code",
      "metadata": {
        "id": "ex_Jr_1C7xG0"
      },
      "source": [
        "top_game = top_game.append(data_2017)\n",
        "top_game = top_game.reset_index(drop = True)"
      ],
      "id": "ex_Jr_1C7xG0",
      "execution_count": null,
      "outputs": []
    },
    {
      "cell_type": "markdown",
      "metadata": {
        "id": "fvxbYX5NoNvI"
      },
      "source": [
        "#### 2016 Ranking"
      ],
      "id": "fvxbYX5NoNvI"
    },
    {
      "cell_type": "code",
      "metadata": {
        "id": "RPsCTlBH7yQm"
      },
      "source": [
        "data_2016 = df_previous_user.loc[(df_previous_user['year']==2016) & (df_previous_user['month']==\"November \")]\n",
        "\n",
        "#delete unrelated columns\n",
        "del data_2016['gain']\n",
        "del data_2016['peak']\n",
        "del data_2016['avg_peak_perc']\n",
        "del data_2016['month']\t\n",
        "\n",
        "#sort by average players\n",
        "data_2016 = data_2016.sort_values(by=['avg'],ascending= False)\n",
        "\n",
        "#find top 100\n",
        "data_2016 = data_2016[:100]\n",
        "\n",
        "#reset index\n",
        "data_2016 = data_2016.reset_index(drop= True)\n",
        "\n",
        "#set ranking\n",
        "i = 0\n",
        "data_2016['Ranking'] = np.nan\n",
        "for i in range(len(data_2016['Ranking'])):\n",
        "  data_2016['Ranking'][i] = int(i+1)\n",
        "\n",
        "# delete average players\n",
        "del data_2016['avg']\n"
      ],
      "id": "RPsCTlBH7yQm",
      "execution_count": null,
      "outputs": []
    },
    {
      "cell_type": "code",
      "metadata": {
        "id": "vOtPKejv7yTe"
      },
      "source": [
        "top_game = top_game.append(data_2016)\n",
        "top_game = top_game.reset_index(drop = True)"
      ],
      "id": "vOtPKejv7yTe",
      "execution_count": null,
      "outputs": []
    },
    {
      "cell_type": "code",
      "metadata": {
        "id": "YCqZLFXsFcd4"
      },
      "source": [
        "top_game"
      ],
      "id": "YCqZLFXsFcd4",
      "execution_count": null,
      "outputs": []
    },
    {
      "cell_type": "markdown",
      "metadata": {
        "id": "xs9h0YzboRSk"
      },
      "source": [
        "### Generating a bump chart from top_game"
      ],
      "id": "xs9h0YzboRSk"
    },
    {
      "cell_type": "markdown",
      "metadata": {
        "id": "T8WeHypBol35"
      },
      "source": [
        "We found the way to generate a bumpp chart in pandas from the website: https://stackoverflow.com/questions/68095438/how-to-make-a-bump-chart"
      ],
      "id": "T8WeHypBol35"
    },
    {
      "cell_type": "code",
      "metadata": {
        "id": "ZfzmBmJdGNn6"
      },
      "source": [
        "#making a bump chart\n",
        "import matplotlib.pyplot as plt\n",
        "plt.rcParams[\"figure.figsize\"] = (50, 25)\n",
        "for i, j in top_game.groupby(\"gamename\"):\n",
        "    plt.plot( \"year\", \"Ranking\",\"o-\", data=j, mfc=\"w\")\n",
        "plt.ylim(0, 20)\n",
        "plt.gca().invert_yaxis()\n",
        "#the graph still needs improvement for better visualization"
      ],
      "id": "ZfzmBmJdGNn6",
      "execution_count": null,
      "outputs": []
    },
    {
      "cell_type": "markdown",
      "metadata": {
        "id": "VLH_0Rii7uqN"
      },
      "source": [
        "From the graph, we should be able to see how the ranking change from 2016 till present.  \n",
        "We will then utilize the database to calculate the average lifetime of a game.\n",
        "With the conclusion we get from the project, it would be meaningful for video game companies to set a timeline for the production and announcement of their products"
      ],
      "id": "VLH_0Rii7uqN"
    },
    {
      "cell_type": "markdown",
      "metadata": {
        "id": "qwmTcE0_7uwL"
      },
      "source": [
        ""
      ],
      "id": "qwmTcE0_7uwL"
    },
    {
      "cell_type": "markdown",
      "metadata": {
        "id": "OZz3__9I7uz1"
      },
      "source": [
        ""
      ],
      "id": "OZz3__9I7uz1"
    }
  ]
}