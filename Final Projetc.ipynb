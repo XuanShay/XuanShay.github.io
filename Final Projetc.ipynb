{
 "cells": [
  {
   "cell_type": "markdown",
   "id": "8ea93153",
   "metadata": {
    "id": "8ea93153"
   },
   "source": [
    "https://xuanshay.github.io"
   ]
  },
  {
   "cell_type": "code",
   "execution_count": 1,
   "id": "W3breCtWFnZU",
   "metadata": {
    "colab": {
     "base_uri": "https://localhost:8080/"
    },
    "id": "W3breCtWFnZU",
    "outputId": "2d9eff47-47d9-47e7-d47b-730319d6826a"
   },
   "outputs": [
    {
     "ename": "ModuleNotFoundError",
     "evalue": "No module named 'google'",
     "output_type": "error",
     "traceback": [
      "\u001b[0;31m---------------------------------------------------------------------------\u001b[0m",
      "\u001b[0;31mModuleNotFoundError\u001b[0m                       Traceback (most recent call last)",
      "\u001b[0;32m<ipython-input-1-d5df0069828e>\u001b[0m in \u001b[0;36m<module>\u001b[0;34m\u001b[0m\n\u001b[0;32m----> 1\u001b[0;31m \u001b[0;32mfrom\u001b[0m \u001b[0mgoogle\u001b[0m\u001b[0;34m.\u001b[0m\u001b[0mcolab\u001b[0m \u001b[0;32mimport\u001b[0m \u001b[0mdrive\u001b[0m\u001b[0;34m\u001b[0m\u001b[0;34m\u001b[0m\u001b[0m\n\u001b[0m\u001b[1;32m      2\u001b[0m \u001b[0mdrive\u001b[0m\u001b[0;34m.\u001b[0m\u001b[0mmount\u001b[0m\u001b[0;34m(\u001b[0m\u001b[0;34m'/content/drive'\u001b[0m\u001b[0;34m)\u001b[0m\u001b[0;34m\u001b[0m\u001b[0;34m\u001b[0m\u001b[0m\n",
      "\u001b[0;31mModuleNotFoundError\u001b[0m: No module named 'google'"
     ]
    }
   ],
   "source": [
    "from google.colab import drive\n",
    "drive.mount('/content/drive')"
   ]
  },
  {
   "cell_type": "markdown",
   "id": "2843b73c",
   "metadata": {
    "id": "2843b73c"
   },
   "source": [
    "# Project: Video game sales\n",
    "\n",
    "Group Memebers: Yuxuan Zhang, Haowen Weng\n",
    "\n",
    "The project aims to dig into the market of video games. The projects investigares tendencies and conclusions about the video game industries.\n"
   ]
  },
  {
   "cell_type": "markdown",
   "id": "4437c73a",
   "metadata": {
    "id": "4437c73a"
   },
   "source": [
    "---"
   ]
  },
  {
   "cell_type": "markdown",
   "id": "83915239",
   "metadata": {
    "id": "83915239"
   },
   "source": [
    "### Datasets:\n",
    "* Video Games Sales  \n",
    "    * Downloaded from https://www.kaggle.com/gregorut/videogamesales  \n",
    "    * The dataset contains a list of video games with sales greater than 100,000 copies. The release year of the games are between 1980 and 2020\n",
    "* Steam database\n",
    "    * Scraped from https://store.steampowered.com/stats/\n",
    "    * The website introduced games with most steam users. It includes both current players and the peak of the day.\n",
    "* Previous Steam Games Ranking\n",
    "    * Downloaded from https://www.kaggle.com/michau96/popularity-of-games-on-steam/version/6\n",
    "    * Th data shows the top trending games with most players of previous years"
   ]
  },
  {
   "cell_type": "markdown",
   "id": "f6ae7645",
   "metadata": {
    "id": "f6ae7645"
   },
   "source": [
    "---"
   ]
  },
  {
   "cell_type": "markdown",
   "id": "7ffba27e",
   "metadata": {
    "id": "7ffba27e"
   },
   "source": [
    "### Purpose and Questions:\n",
    "* Game production companies' preformance in 21th century.\n",
    "* Players' taste in different region \n",
    "* The lifttime of a game\n"
   ]
  },
  {
   "cell_type": "markdown",
   "id": "63c8d472",
   "metadata": {
    "id": "63c8d472"
   },
   "source": [
    "---"
   ]
  },
  {
   "cell_type": "markdown",
   "id": "22bcc2b2",
   "metadata": {
    "id": "22bcc2b2"
   },
   "source": [
    "## Data Generalization, Extraction, Transfrom, and Load"
   ]
  },
  {
   "cell_type": "code",
   "execution_count": 2,
   "id": "7fe1f26d",
   "metadata": {
    "colab": {
     "base_uri": "https://localhost:8080/"
    },
    "id": "7fe1f26d",
    "outputId": "db6f75b6-dd7b-4ef4-e03b-c0c2a6726281"
   },
   "outputs": [
    {
     "name": "stdout",
     "output_type": "stream",
     "text": [
      "Requirement already satisfied: beautifulsoup4 in /srv/conda/envs/notebook/lib/python3.6/site-packages (4.10.0)\n",
      "Requirement already satisfied: soupsieve>1.2 in /srv/conda/envs/notebook/lib/python3.6/site-packages (from beautifulsoup4) (2.3.1)\n",
      "Requirement already satisfied: requests in /srv/conda/envs/notebook/lib/python3.6/site-packages (2.26.0)\n",
      "Requirement already satisfied: idna<4,>=2.5 in /srv/conda/envs/notebook/lib/python3.6/site-packages (from requests) (3.1)\n",
      "Requirement already satisfied: urllib3<1.27,>=1.21.1 in /srv/conda/envs/notebook/lib/python3.6/site-packages (from requests) (1.26.7)\n",
      "Requirement already satisfied: certifi>=2017.4.17 in /srv/conda/envs/notebook/lib/python3.6/site-packages (from requests) (2021.5.30)\n",
      "Requirement already satisfied: charset-normalizer~=2.0.0 in /srv/conda/envs/notebook/lib/python3.6/site-packages (from requests) (2.0.0)\n",
      "Requirement already satisfied: pandas in /srv/conda/envs/notebook/lib/python3.6/site-packages (1.1.5)\n",
      "Requirement already satisfied: python-dateutil>=2.7.3 in /srv/conda/envs/notebook/lib/python3.6/site-packages (from pandas) (2.8.2)\n",
      "Requirement already satisfied: pytz>=2017.2 in /srv/conda/envs/notebook/lib/python3.6/site-packages (from pandas) (2021.3)\n",
      "Requirement already satisfied: numpy>=1.15.4 in /srv/conda/envs/notebook/lib/python3.6/site-packages (from pandas) (1.19.5)\n",
      "Requirement already satisfied: six>=1.5 in /srv/conda/envs/notebook/lib/python3.6/site-packages (from python-dateutil>=2.7.3->pandas) (1.16.0)\n",
      "Requirement already satisfied: numpy in /srv/conda/envs/notebook/lib/python3.6/site-packages (1.19.5)\n",
      "Requirement already satisfied: html5lib in /srv/conda/envs/notebook/lib/python3.6/site-packages (1.1)\n",
      "Requirement already satisfied: six>=1.9 in /srv/conda/envs/notebook/lib/python3.6/site-packages (from html5lib) (1.16.0)\n",
      "Requirement already satisfied: webencodings in /srv/conda/envs/notebook/lib/python3.6/site-packages (from html5lib) (0.5.1)\n",
      "Requirement already satisfied: lxml in /srv/conda/envs/notebook/lib/python3.6/site-packages (4.6.4)\n",
      "Requirement already satisfied: html5lib in /srv/conda/envs/notebook/lib/python3.6/site-packages (1.1)\n",
      "Requirement already satisfied: webencodings in /srv/conda/envs/notebook/lib/python3.6/site-packages (from html5lib) (0.5.1)\n",
      "Requirement already satisfied: six>=1.9 in /srv/conda/envs/notebook/lib/python3.6/site-packages (from html5lib) (1.16.0)\n"
     ]
    }
   ],
   "source": [
    "!pip install beautifulsoup4\n",
    "!pip install requests\n",
    "!pip install pandas\n",
    "!pip install numpy\n",
    "!pip install html5lib\n",
    "!pip3 install lxml\n",
    "\n",
    "!pip install html5lib"
   ]
  },
  {
   "cell_type": "code",
   "execution_count": 3,
   "id": "3a921c7d",
   "metadata": {
    "id": "3a921c7d"
   },
   "outputs": [
    {
     "name": "stdout",
     "output_type": "stream",
     "text": [
      "Requirement already satisfied: html5lib in /srv/conda/envs/notebook/lib/python3.6/site-packages (1.1)\r\n",
      "Requirement already satisfied: six>=1.9 in /srv/conda/envs/notebook/lib/python3.6/site-packages (from html5lib) (1.16.0)\r\n",
      "Requirement already satisfied: webencodings in /srv/conda/envs/notebook/lib/python3.6/site-packages (from html5lib) (0.5.1)\r\n"
     ]
    }
   ],
   "source": [
    "!pip install html5lib"
   ]
  },
  {
   "cell_type": "code",
   "execution_count": 4,
   "id": "ad65fbaa",
   "metadata": {
    "id": "ad65fbaa"
   },
   "outputs": [],
   "source": [
    "#%matplotlib inline\n",
    "import numpy as np\n",
    "import pandas as pd\n",
    "import requests\n",
    "import numpy\n",
    "import lxml\n",
    "from bs4 import BeautifulSoup\n",
    "import re\n",
    "import html5lib"
   ]
  },
  {
   "cell_type": "markdown",
   "id": "406e69d2",
   "metadata": {
    "id": "406e69d2"
   },
   "source": [
    "### Data Set 1: Video Games Slaes"
   ]
  },
  {
   "cell_type": "markdown",
   "id": "356f85f0",
   "metadata": {
    "id": "356f85f0"
   },
   "source": [
    "Our dataset is generated by a scrape of [VGChartz](https://www.vgchartz.com/). It contains a list of video games with sales greater than 100,000 copies in worldwide.\n",
    "\n",
    "Notice: 1.) Sales are in millions. 2.)Data collected from 2017"
   ]
  },
  {
   "cell_type": "code",
   "execution_count": 5,
   "id": "f9461e02",
   "metadata": {
    "id": "f9461e02"
   },
   "outputs": [
    {
     "data": {
      "text/html": [
       "<div>\n",
       "<style scoped>\n",
       "    .dataframe tbody tr th:only-of-type {\n",
       "        vertical-align: middle;\n",
       "    }\n",
       "\n",
       "    .dataframe tbody tr th {\n",
       "        vertical-align: top;\n",
       "    }\n",
       "\n",
       "    .dataframe thead th {\n",
       "        text-align: right;\n",
       "    }\n",
       "</style>\n",
       "<table border=\"1\" class=\"dataframe\">\n",
       "  <thead>\n",
       "    <tr style=\"text-align: right;\">\n",
       "      <th></th>\n",
       "      <th>Rank</th>\n",
       "      <th>Name</th>\n",
       "      <th>Platform</th>\n",
       "      <th>Year</th>\n",
       "      <th>Genre</th>\n",
       "      <th>Publisher</th>\n",
       "      <th>NA_Sales</th>\n",
       "      <th>EU_Sales</th>\n",
       "      <th>JP_Sales</th>\n",
       "      <th>Other_Sales</th>\n",
       "      <th>Global_Sales</th>\n",
       "    </tr>\n",
       "  </thead>\n",
       "  <tbody>\n",
       "    <tr>\n",
       "      <th>0</th>\n",
       "      <td>1</td>\n",
       "      <td>Wii Sports</td>\n",
       "      <td>Wii</td>\n",
       "      <td>2006.0</td>\n",
       "      <td>Sports</td>\n",
       "      <td>Nintendo</td>\n",
       "      <td>41.49</td>\n",
       "      <td>29.02</td>\n",
       "      <td>3.77</td>\n",
       "      <td>8.46</td>\n",
       "      <td>82.74</td>\n",
       "    </tr>\n",
       "    <tr>\n",
       "      <th>1</th>\n",
       "      <td>2</td>\n",
       "      <td>Super Mario Bros.</td>\n",
       "      <td>NES</td>\n",
       "      <td>1985.0</td>\n",
       "      <td>Platform</td>\n",
       "      <td>Nintendo</td>\n",
       "      <td>29.08</td>\n",
       "      <td>3.58</td>\n",
       "      <td>6.81</td>\n",
       "      <td>0.77</td>\n",
       "      <td>40.24</td>\n",
       "    </tr>\n",
       "    <tr>\n",
       "      <th>2</th>\n",
       "      <td>3</td>\n",
       "      <td>Mario Kart Wii</td>\n",
       "      <td>Wii</td>\n",
       "      <td>2008.0</td>\n",
       "      <td>Racing</td>\n",
       "      <td>Nintendo</td>\n",
       "      <td>15.85</td>\n",
       "      <td>12.88</td>\n",
       "      <td>3.79</td>\n",
       "      <td>3.31</td>\n",
       "      <td>35.82</td>\n",
       "    </tr>\n",
       "    <tr>\n",
       "      <th>3</th>\n",
       "      <td>4</td>\n",
       "      <td>Wii Sports Resort</td>\n",
       "      <td>Wii</td>\n",
       "      <td>2009.0</td>\n",
       "      <td>Sports</td>\n",
       "      <td>Nintendo</td>\n",
       "      <td>15.75</td>\n",
       "      <td>11.01</td>\n",
       "      <td>3.28</td>\n",
       "      <td>2.96</td>\n",
       "      <td>33.00</td>\n",
       "    </tr>\n",
       "    <tr>\n",
       "      <th>4</th>\n",
       "      <td>5</td>\n",
       "      <td>Pokemon Red/Pokemon Blue</td>\n",
       "      <td>GB</td>\n",
       "      <td>1996.0</td>\n",
       "      <td>Role-Playing</td>\n",
       "      <td>Nintendo</td>\n",
       "      <td>11.27</td>\n",
       "      <td>8.89</td>\n",
       "      <td>10.22</td>\n",
       "      <td>1.00</td>\n",
       "      <td>31.37</td>\n",
       "    </tr>\n",
       "    <tr>\n",
       "      <th>5</th>\n",
       "      <td>6</td>\n",
       "      <td>Tetris</td>\n",
       "      <td>GB</td>\n",
       "      <td>1989.0</td>\n",
       "      <td>Puzzle</td>\n",
       "      <td>Nintendo</td>\n",
       "      <td>23.20</td>\n",
       "      <td>2.26</td>\n",
       "      <td>4.22</td>\n",
       "      <td>0.58</td>\n",
       "      <td>30.26</td>\n",
       "    </tr>\n",
       "    <tr>\n",
       "      <th>6</th>\n",
       "      <td>7</td>\n",
       "      <td>New Super Mario Bros.</td>\n",
       "      <td>DS</td>\n",
       "      <td>2006.0</td>\n",
       "      <td>Platform</td>\n",
       "      <td>Nintendo</td>\n",
       "      <td>11.38</td>\n",
       "      <td>9.23</td>\n",
       "      <td>6.50</td>\n",
       "      <td>2.90</td>\n",
       "      <td>30.01</td>\n",
       "    </tr>\n",
       "    <tr>\n",
       "      <th>7</th>\n",
       "      <td>8</td>\n",
       "      <td>Wii Play</td>\n",
       "      <td>Wii</td>\n",
       "      <td>2006.0</td>\n",
       "      <td>Misc</td>\n",
       "      <td>Nintendo</td>\n",
       "      <td>14.03</td>\n",
       "      <td>9.20</td>\n",
       "      <td>2.93</td>\n",
       "      <td>2.85</td>\n",
       "      <td>29.02</td>\n",
       "    </tr>\n",
       "    <tr>\n",
       "      <th>8</th>\n",
       "      <td>9</td>\n",
       "      <td>New Super Mario Bros. Wii</td>\n",
       "      <td>Wii</td>\n",
       "      <td>2009.0</td>\n",
       "      <td>Platform</td>\n",
       "      <td>Nintendo</td>\n",
       "      <td>14.59</td>\n",
       "      <td>7.06</td>\n",
       "      <td>4.70</td>\n",
       "      <td>2.26</td>\n",
       "      <td>28.62</td>\n",
       "    </tr>\n",
       "    <tr>\n",
       "      <th>9</th>\n",
       "      <td>10</td>\n",
       "      <td>Duck Hunt</td>\n",
       "      <td>NES</td>\n",
       "      <td>1984.0</td>\n",
       "      <td>Shooter</td>\n",
       "      <td>Nintendo</td>\n",
       "      <td>26.93</td>\n",
       "      <td>0.63</td>\n",
       "      <td>0.28</td>\n",
       "      <td>0.47</td>\n",
       "      <td>28.31</td>\n",
       "    </tr>\n",
       "    <tr>\n",
       "      <th>10</th>\n",
       "      <td>11</td>\n",
       "      <td>Nintendogs</td>\n",
       "      <td>DS</td>\n",
       "      <td>2005.0</td>\n",
       "      <td>Simulation</td>\n",
       "      <td>Nintendo</td>\n",
       "      <td>9.07</td>\n",
       "      <td>11.00</td>\n",
       "      <td>1.93</td>\n",
       "      <td>2.75</td>\n",
       "      <td>24.76</td>\n",
       "    </tr>\n",
       "    <tr>\n",
       "      <th>11</th>\n",
       "      <td>12</td>\n",
       "      <td>Mario Kart DS</td>\n",
       "      <td>DS</td>\n",
       "      <td>2005.0</td>\n",
       "      <td>Racing</td>\n",
       "      <td>Nintendo</td>\n",
       "      <td>9.81</td>\n",
       "      <td>7.57</td>\n",
       "      <td>4.13</td>\n",
       "      <td>1.92</td>\n",
       "      <td>23.42</td>\n",
       "    </tr>\n",
       "    <tr>\n",
       "      <th>12</th>\n",
       "      <td>13</td>\n",
       "      <td>Pokemon Gold/Pokemon Silver</td>\n",
       "      <td>GB</td>\n",
       "      <td>1999.0</td>\n",
       "      <td>Role-Playing</td>\n",
       "      <td>Nintendo</td>\n",
       "      <td>9.00</td>\n",
       "      <td>6.18</td>\n",
       "      <td>7.20</td>\n",
       "      <td>0.71</td>\n",
       "      <td>23.10</td>\n",
       "    </tr>\n",
       "    <tr>\n",
       "      <th>13</th>\n",
       "      <td>14</td>\n",
       "      <td>Wii Fit</td>\n",
       "      <td>Wii</td>\n",
       "      <td>2007.0</td>\n",
       "      <td>Sports</td>\n",
       "      <td>Nintendo</td>\n",
       "      <td>8.94</td>\n",
       "      <td>8.03</td>\n",
       "      <td>3.60</td>\n",
       "      <td>2.15</td>\n",
       "      <td>22.72</td>\n",
       "    </tr>\n",
       "    <tr>\n",
       "      <th>14</th>\n",
       "      <td>15</td>\n",
       "      <td>Wii Fit Plus</td>\n",
       "      <td>Wii</td>\n",
       "      <td>2009.0</td>\n",
       "      <td>Sports</td>\n",
       "      <td>Nintendo</td>\n",
       "      <td>9.09</td>\n",
       "      <td>8.59</td>\n",
       "      <td>2.53</td>\n",
       "      <td>1.79</td>\n",
       "      <td>22.00</td>\n",
       "    </tr>\n",
       "    <tr>\n",
       "      <th>15</th>\n",
       "      <td>16</td>\n",
       "      <td>Kinect Adventures!</td>\n",
       "      <td>X360</td>\n",
       "      <td>2010.0</td>\n",
       "      <td>Misc</td>\n",
       "      <td>Microsoft Game Studios</td>\n",
       "      <td>14.97</td>\n",
       "      <td>4.94</td>\n",
       "      <td>0.24</td>\n",
       "      <td>1.67</td>\n",
       "      <td>21.82</td>\n",
       "    </tr>\n",
       "    <tr>\n",
       "      <th>16</th>\n",
       "      <td>17</td>\n",
       "      <td>Grand Theft Auto V</td>\n",
       "      <td>PS3</td>\n",
       "      <td>2013.0</td>\n",
       "      <td>Action</td>\n",
       "      <td>Take-Two Interactive</td>\n",
       "      <td>7.01</td>\n",
       "      <td>9.27</td>\n",
       "      <td>0.97</td>\n",
       "      <td>4.14</td>\n",
       "      <td>21.40</td>\n",
       "    </tr>\n",
       "    <tr>\n",
       "      <th>17</th>\n",
       "      <td>18</td>\n",
       "      <td>Grand Theft Auto: San Andreas</td>\n",
       "      <td>PS2</td>\n",
       "      <td>2004.0</td>\n",
       "      <td>Action</td>\n",
       "      <td>Take-Two Interactive</td>\n",
       "      <td>9.43</td>\n",
       "      <td>0.40</td>\n",
       "      <td>0.41</td>\n",
       "      <td>10.57</td>\n",
       "      <td>20.81</td>\n",
       "    </tr>\n",
       "    <tr>\n",
       "      <th>18</th>\n",
       "      <td>19</td>\n",
       "      <td>Super Mario World</td>\n",
       "      <td>SNES</td>\n",
       "      <td>1990.0</td>\n",
       "      <td>Platform</td>\n",
       "      <td>Nintendo</td>\n",
       "      <td>12.78</td>\n",
       "      <td>3.75</td>\n",
       "      <td>3.54</td>\n",
       "      <td>0.55</td>\n",
       "      <td>20.61</td>\n",
       "    </tr>\n",
       "    <tr>\n",
       "      <th>19</th>\n",
       "      <td>20</td>\n",
       "      <td>Brain Age: Train Your Brain in Minutes a Day</td>\n",
       "      <td>DS</td>\n",
       "      <td>2005.0</td>\n",
       "      <td>Misc</td>\n",
       "      <td>Nintendo</td>\n",
       "      <td>4.75</td>\n",
       "      <td>9.26</td>\n",
       "      <td>4.16</td>\n",
       "      <td>2.05</td>\n",
       "      <td>20.22</td>\n",
       "    </tr>\n",
       "    <tr>\n",
       "      <th>20</th>\n",
       "      <td>21</td>\n",
       "      <td>Pokemon Diamond/Pokemon Pearl</td>\n",
       "      <td>DS</td>\n",
       "      <td>2006.0</td>\n",
       "      <td>Role-Playing</td>\n",
       "      <td>Nintendo</td>\n",
       "      <td>6.42</td>\n",
       "      <td>4.52</td>\n",
       "      <td>6.04</td>\n",
       "      <td>1.37</td>\n",
       "      <td>18.36</td>\n",
       "    </tr>\n",
       "    <tr>\n",
       "      <th>21</th>\n",
       "      <td>22</td>\n",
       "      <td>Super Mario Land</td>\n",
       "      <td>GB</td>\n",
       "      <td>1989.0</td>\n",
       "      <td>Platform</td>\n",
       "      <td>Nintendo</td>\n",
       "      <td>10.83</td>\n",
       "      <td>2.71</td>\n",
       "      <td>4.18</td>\n",
       "      <td>0.42</td>\n",
       "      <td>18.14</td>\n",
       "    </tr>\n",
       "    <tr>\n",
       "      <th>22</th>\n",
       "      <td>23</td>\n",
       "      <td>Super Mario Bros. 3</td>\n",
       "      <td>NES</td>\n",
       "      <td>1988.0</td>\n",
       "      <td>Platform</td>\n",
       "      <td>Nintendo</td>\n",
       "      <td>9.54</td>\n",
       "      <td>3.44</td>\n",
       "      <td>3.84</td>\n",
       "      <td>0.46</td>\n",
       "      <td>17.28</td>\n",
       "    </tr>\n",
       "    <tr>\n",
       "      <th>23</th>\n",
       "      <td>24</td>\n",
       "      <td>Grand Theft Auto V</td>\n",
       "      <td>X360</td>\n",
       "      <td>2013.0</td>\n",
       "      <td>Action</td>\n",
       "      <td>Take-Two Interactive</td>\n",
       "      <td>9.63</td>\n",
       "      <td>5.31</td>\n",
       "      <td>0.06</td>\n",
       "      <td>1.38</td>\n",
       "      <td>16.38</td>\n",
       "    </tr>\n",
       "    <tr>\n",
       "      <th>24</th>\n",
       "      <td>25</td>\n",
       "      <td>Grand Theft Auto: Vice City</td>\n",
       "      <td>PS2</td>\n",
       "      <td>2002.0</td>\n",
       "      <td>Action</td>\n",
       "      <td>Take-Two Interactive</td>\n",
       "      <td>8.41</td>\n",
       "      <td>5.49</td>\n",
       "      <td>0.47</td>\n",
       "      <td>1.78</td>\n",
       "      <td>16.15</td>\n",
       "    </tr>\n",
       "    <tr>\n",
       "      <th>25</th>\n",
       "      <td>26</td>\n",
       "      <td>Pokemon Ruby/Pokemon Sapphire</td>\n",
       "      <td>GBA</td>\n",
       "      <td>2002.0</td>\n",
       "      <td>Role-Playing</td>\n",
       "      <td>Nintendo</td>\n",
       "      <td>6.06</td>\n",
       "      <td>3.90</td>\n",
       "      <td>5.38</td>\n",
       "      <td>0.50</td>\n",
       "      <td>15.85</td>\n",
       "    </tr>\n",
       "    <tr>\n",
       "      <th>26</th>\n",
       "      <td>27</td>\n",
       "      <td>Pokemon Black/Pokemon White</td>\n",
       "      <td>DS</td>\n",
       "      <td>2010.0</td>\n",
       "      <td>Role-Playing</td>\n",
       "      <td>Nintendo</td>\n",
       "      <td>5.57</td>\n",
       "      <td>3.28</td>\n",
       "      <td>5.65</td>\n",
       "      <td>0.82</td>\n",
       "      <td>15.32</td>\n",
       "    </tr>\n",
       "    <tr>\n",
       "      <th>27</th>\n",
       "      <td>28</td>\n",
       "      <td>Brain Age 2: More Training in Minutes a Day</td>\n",
       "      <td>DS</td>\n",
       "      <td>2005.0</td>\n",
       "      <td>Puzzle</td>\n",
       "      <td>Nintendo</td>\n",
       "      <td>3.44</td>\n",
       "      <td>5.36</td>\n",
       "      <td>5.32</td>\n",
       "      <td>1.18</td>\n",
       "      <td>15.30</td>\n",
       "    </tr>\n",
       "    <tr>\n",
       "      <th>28</th>\n",
       "      <td>29</td>\n",
       "      <td>Gran Turismo 3: A-Spec</td>\n",
       "      <td>PS2</td>\n",
       "      <td>2001.0</td>\n",
       "      <td>Racing</td>\n",
       "      <td>Sony Computer Entertainment</td>\n",
       "      <td>6.85</td>\n",
       "      <td>5.09</td>\n",
       "      <td>1.87</td>\n",
       "      <td>1.16</td>\n",
       "      <td>14.98</td>\n",
       "    </tr>\n",
       "    <tr>\n",
       "      <th>29</th>\n",
       "      <td>30</td>\n",
       "      <td>Call of Duty: Modern Warfare 3</td>\n",
       "      <td>X360</td>\n",
       "      <td>2011.0</td>\n",
       "      <td>Shooter</td>\n",
       "      <td>Activision</td>\n",
       "      <td>9.03</td>\n",
       "      <td>4.28</td>\n",
       "      <td>0.13</td>\n",
       "      <td>1.32</td>\n",
       "      <td>14.76</td>\n",
       "    </tr>\n",
       "    <tr>\n",
       "      <th>30</th>\n",
       "      <td>31</td>\n",
       "      <td>Pokémon Yellow: Special Pikachu Edition</td>\n",
       "      <td>GB</td>\n",
       "      <td>1998.0</td>\n",
       "      <td>Role-Playing</td>\n",
       "      <td>Nintendo</td>\n",
       "      <td>5.89</td>\n",
       "      <td>5.04</td>\n",
       "      <td>3.12</td>\n",
       "      <td>0.59</td>\n",
       "      <td>14.64</td>\n",
       "    </tr>\n",
       "    <tr>\n",
       "      <th>31</th>\n",
       "      <td>32</td>\n",
       "      <td>Call of Duty: Black Ops</td>\n",
       "      <td>X360</td>\n",
       "      <td>2010.0</td>\n",
       "      <td>Shooter</td>\n",
       "      <td>Activision</td>\n",
       "      <td>9.67</td>\n",
       "      <td>3.73</td>\n",
       "      <td>0.11</td>\n",
       "      <td>1.13</td>\n",
       "      <td>14.64</td>\n",
       "    </tr>\n",
       "    <tr>\n",
       "      <th>32</th>\n",
       "      <td>33</td>\n",
       "      <td>Pokemon X/Pokemon Y</td>\n",
       "      <td>3DS</td>\n",
       "      <td>2013.0</td>\n",
       "      <td>Role-Playing</td>\n",
       "      <td>Nintendo</td>\n",
       "      <td>5.17</td>\n",
       "      <td>4.05</td>\n",
       "      <td>4.34</td>\n",
       "      <td>0.79</td>\n",
       "      <td>14.35</td>\n",
       "    </tr>\n",
       "    <tr>\n",
       "      <th>33</th>\n",
       "      <td>34</td>\n",
       "      <td>Call of Duty: Black Ops 3</td>\n",
       "      <td>PS4</td>\n",
       "      <td>2015.0</td>\n",
       "      <td>Shooter</td>\n",
       "      <td>Activision</td>\n",
       "      <td>5.77</td>\n",
       "      <td>5.81</td>\n",
       "      <td>0.35</td>\n",
       "      <td>2.31</td>\n",
       "      <td>14.24</td>\n",
       "    </tr>\n",
       "    <tr>\n",
       "      <th>34</th>\n",
       "      <td>35</td>\n",
       "      <td>Call of Duty: Black Ops II</td>\n",
       "      <td>PS3</td>\n",
       "      <td>2012.0</td>\n",
       "      <td>Shooter</td>\n",
       "      <td>Activision</td>\n",
       "      <td>4.99</td>\n",
       "      <td>5.88</td>\n",
       "      <td>0.65</td>\n",
       "      <td>2.52</td>\n",
       "      <td>14.03</td>\n",
       "    </tr>\n",
       "    <tr>\n",
       "      <th>35</th>\n",
       "      <td>36</td>\n",
       "      <td>Call of Duty: Black Ops II</td>\n",
       "      <td>X360</td>\n",
       "      <td>2012.0</td>\n",
       "      <td>Shooter</td>\n",
       "      <td>Activision</td>\n",
       "      <td>8.25</td>\n",
       "      <td>4.30</td>\n",
       "      <td>0.07</td>\n",
       "      <td>1.12</td>\n",
       "      <td>13.73</td>\n",
       "    </tr>\n",
       "    <tr>\n",
       "      <th>36</th>\n",
       "      <td>37</td>\n",
       "      <td>Call of Duty: Modern Warfare 2</td>\n",
       "      <td>X360</td>\n",
       "      <td>2009.0</td>\n",
       "      <td>Shooter</td>\n",
       "      <td>Activision</td>\n",
       "      <td>8.52</td>\n",
       "      <td>3.63</td>\n",
       "      <td>0.08</td>\n",
       "      <td>1.29</td>\n",
       "      <td>13.51</td>\n",
       "    </tr>\n",
       "    <tr>\n",
       "      <th>37</th>\n",
       "      <td>38</td>\n",
       "      <td>Call of Duty: Modern Warfare 3</td>\n",
       "      <td>PS3</td>\n",
       "      <td>2011.0</td>\n",
       "      <td>Shooter</td>\n",
       "      <td>Activision</td>\n",
       "      <td>5.54</td>\n",
       "      <td>5.82</td>\n",
       "      <td>0.49</td>\n",
       "      <td>1.62</td>\n",
       "      <td>13.46</td>\n",
       "    </tr>\n",
       "    <tr>\n",
       "      <th>38</th>\n",
       "      <td>39</td>\n",
       "      <td>Grand Theft Auto III</td>\n",
       "      <td>PS2</td>\n",
       "      <td>2001.0</td>\n",
       "      <td>Action</td>\n",
       "      <td>Take-Two Interactive</td>\n",
       "      <td>6.99</td>\n",
       "      <td>4.51</td>\n",
       "      <td>0.30</td>\n",
       "      <td>1.30</td>\n",
       "      <td>13.10</td>\n",
       "    </tr>\n",
       "    <tr>\n",
       "      <th>39</th>\n",
       "      <td>40</td>\n",
       "      <td>Super Smash Bros. Brawl</td>\n",
       "      <td>Wii</td>\n",
       "      <td>2008.0</td>\n",
       "      <td>Fighting</td>\n",
       "      <td>Nintendo</td>\n",
       "      <td>6.75</td>\n",
       "      <td>2.61</td>\n",
       "      <td>2.66</td>\n",
       "      <td>1.02</td>\n",
       "      <td>13.04</td>\n",
       "    </tr>\n",
       "    <tr>\n",
       "      <th>40</th>\n",
       "      <td>41</td>\n",
       "      <td>Call of Duty: Black Ops</td>\n",
       "      <td>PS3</td>\n",
       "      <td>2010.0</td>\n",
       "      <td>Shooter</td>\n",
       "      <td>Activision</td>\n",
       "      <td>5.98</td>\n",
       "      <td>4.44</td>\n",
       "      <td>0.48</td>\n",
       "      <td>1.83</td>\n",
       "      <td>12.73</td>\n",
       "    </tr>\n",
       "    <tr>\n",
       "      <th>41</th>\n",
       "      <td>42</td>\n",
       "      <td>Animal Crossing: Wild World</td>\n",
       "      <td>DS</td>\n",
       "      <td>2005.0</td>\n",
       "      <td>Simulation</td>\n",
       "      <td>Nintendo</td>\n",
       "      <td>2.55</td>\n",
       "      <td>3.52</td>\n",
       "      <td>5.33</td>\n",
       "      <td>0.88</td>\n",
       "      <td>12.27</td>\n",
       "    </tr>\n",
       "    <tr>\n",
       "      <th>42</th>\n",
       "      <td>43</td>\n",
       "      <td>Mario Kart 7</td>\n",
       "      <td>3DS</td>\n",
       "      <td>2011.0</td>\n",
       "      <td>Racing</td>\n",
       "      <td>Nintendo</td>\n",
       "      <td>4.74</td>\n",
       "      <td>3.91</td>\n",
       "      <td>2.67</td>\n",
       "      <td>0.89</td>\n",
       "      <td>12.21</td>\n",
       "    </tr>\n",
       "    <tr>\n",
       "      <th>43</th>\n",
       "      <td>44</td>\n",
       "      <td>Halo 3</td>\n",
       "      <td>X360</td>\n",
       "      <td>2007.0</td>\n",
       "      <td>Shooter</td>\n",
       "      <td>Microsoft Game Studios</td>\n",
       "      <td>7.97</td>\n",
       "      <td>2.83</td>\n",
       "      <td>0.13</td>\n",
       "      <td>1.21</td>\n",
       "      <td>12.14</td>\n",
       "    </tr>\n",
       "    <tr>\n",
       "      <th>44</th>\n",
       "      <td>45</td>\n",
       "      <td>Grand Theft Auto V</td>\n",
       "      <td>PS4</td>\n",
       "      <td>2014.0</td>\n",
       "      <td>Action</td>\n",
       "      <td>Take-Two Interactive</td>\n",
       "      <td>3.80</td>\n",
       "      <td>5.81</td>\n",
       "      <td>0.36</td>\n",
       "      <td>2.02</td>\n",
       "      <td>11.98</td>\n",
       "    </tr>\n",
       "    <tr>\n",
       "      <th>45</th>\n",
       "      <td>46</td>\n",
       "      <td>Pokemon HeartGold/Pokemon SoulSilver</td>\n",
       "      <td>DS</td>\n",
       "      <td>2009.0</td>\n",
       "      <td>Action</td>\n",
       "      <td>Nintendo</td>\n",
       "      <td>4.40</td>\n",
       "      <td>2.77</td>\n",
       "      <td>3.96</td>\n",
       "      <td>0.77</td>\n",
       "      <td>11.90</td>\n",
       "    </tr>\n",
       "    <tr>\n",
       "      <th>46</th>\n",
       "      <td>47</td>\n",
       "      <td>Super Mario 64</td>\n",
       "      <td>N64</td>\n",
       "      <td>1996.0</td>\n",
       "      <td>Platform</td>\n",
       "      <td>Nintendo</td>\n",
       "      <td>6.91</td>\n",
       "      <td>2.85</td>\n",
       "      <td>1.91</td>\n",
       "      <td>0.23</td>\n",
       "      <td>11.89</td>\n",
       "    </tr>\n",
       "    <tr>\n",
       "      <th>47</th>\n",
       "      <td>48</td>\n",
       "      <td>Gran Turismo 4</td>\n",
       "      <td>PS2</td>\n",
       "      <td>2004.0</td>\n",
       "      <td>Racing</td>\n",
       "      <td>Sony Computer Entertainment</td>\n",
       "      <td>3.01</td>\n",
       "      <td>0.01</td>\n",
       "      <td>1.10</td>\n",
       "      <td>7.53</td>\n",
       "      <td>11.66</td>\n",
       "    </tr>\n",
       "    <tr>\n",
       "      <th>48</th>\n",
       "      <td>49</td>\n",
       "      <td>Super Mario Galaxy</td>\n",
       "      <td>Wii</td>\n",
       "      <td>2007.0</td>\n",
       "      <td>Platform</td>\n",
       "      <td>Nintendo</td>\n",
       "      <td>6.16</td>\n",
       "      <td>3.40</td>\n",
       "      <td>1.20</td>\n",
       "      <td>0.76</td>\n",
       "      <td>11.52</td>\n",
       "    </tr>\n",
       "    <tr>\n",
       "      <th>49</th>\n",
       "      <td>50</td>\n",
       "      <td>Pokemon Omega Ruby/Pokemon Alpha Sapphire</td>\n",
       "      <td>3DS</td>\n",
       "      <td>2014.0</td>\n",
       "      <td>Role-Playing</td>\n",
       "      <td>Nintendo</td>\n",
       "      <td>4.23</td>\n",
       "      <td>3.37</td>\n",
       "      <td>3.08</td>\n",
       "      <td>0.65</td>\n",
       "      <td>11.33</td>\n",
       "    </tr>\n",
       "  </tbody>\n",
       "</table>\n",
       "</div>"
      ],
      "text/plain": [
       "    Rank                                          Name Platform    Year  \\\n",
       "0      1                                    Wii Sports      Wii  2006.0   \n",
       "1      2                             Super Mario Bros.      NES  1985.0   \n",
       "2      3                                Mario Kart Wii      Wii  2008.0   \n",
       "3      4                             Wii Sports Resort      Wii  2009.0   \n",
       "4      5                      Pokemon Red/Pokemon Blue       GB  1996.0   \n",
       "5      6                                        Tetris       GB  1989.0   \n",
       "6      7                         New Super Mario Bros.       DS  2006.0   \n",
       "7      8                                      Wii Play      Wii  2006.0   \n",
       "8      9                     New Super Mario Bros. Wii      Wii  2009.0   \n",
       "9     10                                     Duck Hunt      NES  1984.0   \n",
       "10    11                                    Nintendogs       DS  2005.0   \n",
       "11    12                                 Mario Kart DS       DS  2005.0   \n",
       "12    13                   Pokemon Gold/Pokemon Silver       GB  1999.0   \n",
       "13    14                                       Wii Fit      Wii  2007.0   \n",
       "14    15                                  Wii Fit Plus      Wii  2009.0   \n",
       "15    16                            Kinect Adventures!     X360  2010.0   \n",
       "16    17                            Grand Theft Auto V      PS3  2013.0   \n",
       "17    18                 Grand Theft Auto: San Andreas      PS2  2004.0   \n",
       "18    19                             Super Mario World     SNES  1990.0   \n",
       "19    20  Brain Age: Train Your Brain in Minutes a Day       DS  2005.0   \n",
       "20    21                 Pokemon Diamond/Pokemon Pearl       DS  2006.0   \n",
       "21    22                              Super Mario Land       GB  1989.0   \n",
       "22    23                           Super Mario Bros. 3      NES  1988.0   \n",
       "23    24                            Grand Theft Auto V     X360  2013.0   \n",
       "24    25                   Grand Theft Auto: Vice City      PS2  2002.0   \n",
       "25    26                 Pokemon Ruby/Pokemon Sapphire      GBA  2002.0   \n",
       "26    27                   Pokemon Black/Pokemon White       DS  2010.0   \n",
       "27    28   Brain Age 2: More Training in Minutes a Day       DS  2005.0   \n",
       "28    29                        Gran Turismo 3: A-Spec      PS2  2001.0   \n",
       "29    30                Call of Duty: Modern Warfare 3     X360  2011.0   \n",
       "30    31       Pokémon Yellow: Special Pikachu Edition       GB  1998.0   \n",
       "31    32                       Call of Duty: Black Ops     X360  2010.0   \n",
       "32    33                           Pokemon X/Pokemon Y      3DS  2013.0   \n",
       "33    34                     Call of Duty: Black Ops 3      PS4  2015.0   \n",
       "34    35                    Call of Duty: Black Ops II      PS3  2012.0   \n",
       "35    36                    Call of Duty: Black Ops II     X360  2012.0   \n",
       "36    37                Call of Duty: Modern Warfare 2     X360  2009.0   \n",
       "37    38                Call of Duty: Modern Warfare 3      PS3  2011.0   \n",
       "38    39                          Grand Theft Auto III      PS2  2001.0   \n",
       "39    40                       Super Smash Bros. Brawl      Wii  2008.0   \n",
       "40    41                       Call of Duty: Black Ops      PS3  2010.0   \n",
       "41    42                   Animal Crossing: Wild World       DS  2005.0   \n",
       "42    43                                  Mario Kart 7      3DS  2011.0   \n",
       "43    44                                        Halo 3     X360  2007.0   \n",
       "44    45                            Grand Theft Auto V      PS4  2014.0   \n",
       "45    46          Pokemon HeartGold/Pokemon SoulSilver       DS  2009.0   \n",
       "46    47                                Super Mario 64      N64  1996.0   \n",
       "47    48                                Gran Turismo 4      PS2  2004.0   \n",
       "48    49                            Super Mario Galaxy      Wii  2007.0   \n",
       "49    50     Pokemon Omega Ruby/Pokemon Alpha Sapphire      3DS  2014.0   \n",
       "\n",
       "           Genre                    Publisher  NA_Sales  EU_Sales  JP_Sales  \\\n",
       "0         Sports                     Nintendo     41.49     29.02      3.77   \n",
       "1       Platform                     Nintendo     29.08      3.58      6.81   \n",
       "2         Racing                     Nintendo     15.85     12.88      3.79   \n",
       "3         Sports                     Nintendo     15.75     11.01      3.28   \n",
       "4   Role-Playing                     Nintendo     11.27      8.89     10.22   \n",
       "5         Puzzle                     Nintendo     23.20      2.26      4.22   \n",
       "6       Platform                     Nintendo     11.38      9.23      6.50   \n",
       "7           Misc                     Nintendo     14.03      9.20      2.93   \n",
       "8       Platform                     Nintendo     14.59      7.06      4.70   \n",
       "9        Shooter                     Nintendo     26.93      0.63      0.28   \n",
       "10    Simulation                     Nintendo      9.07     11.00      1.93   \n",
       "11        Racing                     Nintendo      9.81      7.57      4.13   \n",
       "12  Role-Playing                     Nintendo      9.00      6.18      7.20   \n",
       "13        Sports                     Nintendo      8.94      8.03      3.60   \n",
       "14        Sports                     Nintendo      9.09      8.59      2.53   \n",
       "15          Misc       Microsoft Game Studios     14.97      4.94      0.24   \n",
       "16        Action         Take-Two Interactive      7.01      9.27      0.97   \n",
       "17        Action         Take-Two Interactive      9.43      0.40      0.41   \n",
       "18      Platform                     Nintendo     12.78      3.75      3.54   \n",
       "19          Misc                     Nintendo      4.75      9.26      4.16   \n",
       "20  Role-Playing                     Nintendo      6.42      4.52      6.04   \n",
       "21      Platform                     Nintendo     10.83      2.71      4.18   \n",
       "22      Platform                     Nintendo      9.54      3.44      3.84   \n",
       "23        Action         Take-Two Interactive      9.63      5.31      0.06   \n",
       "24        Action         Take-Two Interactive      8.41      5.49      0.47   \n",
       "25  Role-Playing                     Nintendo      6.06      3.90      5.38   \n",
       "26  Role-Playing                     Nintendo      5.57      3.28      5.65   \n",
       "27        Puzzle                     Nintendo      3.44      5.36      5.32   \n",
       "28        Racing  Sony Computer Entertainment      6.85      5.09      1.87   \n",
       "29       Shooter                   Activision      9.03      4.28      0.13   \n",
       "30  Role-Playing                     Nintendo      5.89      5.04      3.12   \n",
       "31       Shooter                   Activision      9.67      3.73      0.11   \n",
       "32  Role-Playing                     Nintendo      5.17      4.05      4.34   \n",
       "33       Shooter                   Activision      5.77      5.81      0.35   \n",
       "34       Shooter                   Activision      4.99      5.88      0.65   \n",
       "35       Shooter                   Activision      8.25      4.30      0.07   \n",
       "36       Shooter                   Activision      8.52      3.63      0.08   \n",
       "37       Shooter                   Activision      5.54      5.82      0.49   \n",
       "38        Action         Take-Two Interactive      6.99      4.51      0.30   \n",
       "39      Fighting                     Nintendo      6.75      2.61      2.66   \n",
       "40       Shooter                   Activision      5.98      4.44      0.48   \n",
       "41    Simulation                     Nintendo      2.55      3.52      5.33   \n",
       "42        Racing                     Nintendo      4.74      3.91      2.67   \n",
       "43       Shooter       Microsoft Game Studios      7.97      2.83      0.13   \n",
       "44        Action         Take-Two Interactive      3.80      5.81      0.36   \n",
       "45        Action                     Nintendo      4.40      2.77      3.96   \n",
       "46      Platform                     Nintendo      6.91      2.85      1.91   \n",
       "47        Racing  Sony Computer Entertainment      3.01      0.01      1.10   \n",
       "48      Platform                     Nintendo      6.16      3.40      1.20   \n",
       "49  Role-Playing                     Nintendo      4.23      3.37      3.08   \n",
       "\n",
       "    Other_Sales  Global_Sales  \n",
       "0          8.46         82.74  \n",
       "1          0.77         40.24  \n",
       "2          3.31         35.82  \n",
       "3          2.96         33.00  \n",
       "4          1.00         31.37  \n",
       "5          0.58         30.26  \n",
       "6          2.90         30.01  \n",
       "7          2.85         29.02  \n",
       "8          2.26         28.62  \n",
       "9          0.47         28.31  \n",
       "10         2.75         24.76  \n",
       "11         1.92         23.42  \n",
       "12         0.71         23.10  \n",
       "13         2.15         22.72  \n",
       "14         1.79         22.00  \n",
       "15         1.67         21.82  \n",
       "16         4.14         21.40  \n",
       "17        10.57         20.81  \n",
       "18         0.55         20.61  \n",
       "19         2.05         20.22  \n",
       "20         1.37         18.36  \n",
       "21         0.42         18.14  \n",
       "22         0.46         17.28  \n",
       "23         1.38         16.38  \n",
       "24         1.78         16.15  \n",
       "25         0.50         15.85  \n",
       "26         0.82         15.32  \n",
       "27         1.18         15.30  \n",
       "28         1.16         14.98  \n",
       "29         1.32         14.76  \n",
       "30         0.59         14.64  \n",
       "31         1.13         14.64  \n",
       "32         0.79         14.35  \n",
       "33         2.31         14.24  \n",
       "34         2.52         14.03  \n",
       "35         1.12         13.73  \n",
       "36         1.29         13.51  \n",
       "37         1.62         13.46  \n",
       "38         1.30         13.10  \n",
       "39         1.02         13.04  \n",
       "40         1.83         12.73  \n",
       "41         0.88         12.27  \n",
       "42         0.89         12.21  \n",
       "43         1.21         12.14  \n",
       "44         2.02         11.98  \n",
       "45         0.77         11.90  \n",
       "46         0.23         11.89  \n",
       "47         7.53         11.66  \n",
       "48         0.76         11.52  \n",
       "49         0.65         11.33  "
      ]
     },
     "execution_count": 5,
     "metadata": {},
     "output_type": "execute_result"
    }
   ],
   "source": [
    "vgs = pd.read_csv(\"vgsales.csv\")\n",
    "vgs.head(50)"
   ]
  },
  {
   "cell_type": "markdown",
   "id": "a351d0bb",
   "metadata": {},
   "source": [
    "# The struggle between producers"
   ]
  },
  {
   "cell_type": "markdown",
   "id": "3c7e4134",
   "metadata": {
    "id": "3c7e4134"
   },
   "source": [
    "To find out the main stream tendency of gaming industries, we better first take a look on publishing companies, Let's overview the performance of all the manufacturers since 2000."
   ]
  },
  {
   "cell_type": "code",
   "execution_count": 6,
   "id": "a4db077d",
   "metadata": {},
   "outputs": [
    {
     "data": {
      "text/html": [
       "<div>\n",
       "<style scoped>\n",
       "    .dataframe tbody tr th:only-of-type {\n",
       "        vertical-align: middle;\n",
       "    }\n",
       "\n",
       "    .dataframe tbody tr th {\n",
       "        vertical-align: top;\n",
       "    }\n",
       "\n",
       "    .dataframe thead th {\n",
       "        text-align: right;\n",
       "    }\n",
       "</style>\n",
       "<table border=\"1\" class=\"dataframe\">\n",
       "  <thead>\n",
       "    <tr style=\"text-align: right;\">\n",
       "      <th></th>\n",
       "      <th>Rank</th>\n",
       "      <th>Name</th>\n",
       "      <th>Platform</th>\n",
       "      <th>Year</th>\n",
       "      <th>Genre</th>\n",
       "      <th>Publisher</th>\n",
       "      <th>NA_Sales</th>\n",
       "      <th>EU_Sales</th>\n",
       "      <th>JP_Sales</th>\n",
       "      <th>Other_Sales</th>\n",
       "      <th>Global_Sales</th>\n",
       "    </tr>\n",
       "  </thead>\n",
       "  <tbody>\n",
       "    <tr>\n",
       "      <th>0</th>\n",
       "      <td>1</td>\n",
       "      <td>Wii Sports</td>\n",
       "      <td>Wii</td>\n",
       "      <td>2006.0</td>\n",
       "      <td>Sports</td>\n",
       "      <td>Nintendo</td>\n",
       "      <td>41.49</td>\n",
       "      <td>29.02</td>\n",
       "      <td>3.77</td>\n",
       "      <td>8.46</td>\n",
       "      <td>82.74</td>\n",
       "    </tr>\n",
       "    <tr>\n",
       "      <th>2</th>\n",
       "      <td>3</td>\n",
       "      <td>Mario Kart Wii</td>\n",
       "      <td>Wii</td>\n",
       "      <td>2008.0</td>\n",
       "      <td>Racing</td>\n",
       "      <td>Nintendo</td>\n",
       "      <td>15.85</td>\n",
       "      <td>12.88</td>\n",
       "      <td>3.79</td>\n",
       "      <td>3.31</td>\n",
       "      <td>35.82</td>\n",
       "    </tr>\n",
       "    <tr>\n",
       "      <th>3</th>\n",
       "      <td>4</td>\n",
       "      <td>Wii Sports Resort</td>\n",
       "      <td>Wii</td>\n",
       "      <td>2009.0</td>\n",
       "      <td>Sports</td>\n",
       "      <td>Nintendo</td>\n",
       "      <td>15.75</td>\n",
       "      <td>11.01</td>\n",
       "      <td>3.28</td>\n",
       "      <td>2.96</td>\n",
       "      <td>33.00</td>\n",
       "    </tr>\n",
       "    <tr>\n",
       "      <th>6</th>\n",
       "      <td>7</td>\n",
       "      <td>New Super Mario Bros.</td>\n",
       "      <td>DS</td>\n",
       "      <td>2006.0</td>\n",
       "      <td>Platform</td>\n",
       "      <td>Nintendo</td>\n",
       "      <td>11.38</td>\n",
       "      <td>9.23</td>\n",
       "      <td>6.50</td>\n",
       "      <td>2.90</td>\n",
       "      <td>30.01</td>\n",
       "    </tr>\n",
       "    <tr>\n",
       "      <th>7</th>\n",
       "      <td>8</td>\n",
       "      <td>Wii Play</td>\n",
       "      <td>Wii</td>\n",
       "      <td>2006.0</td>\n",
       "      <td>Misc</td>\n",
       "      <td>Nintendo</td>\n",
       "      <td>14.03</td>\n",
       "      <td>9.20</td>\n",
       "      <td>2.93</td>\n",
       "      <td>2.85</td>\n",
       "      <td>29.02</td>\n",
       "    </tr>\n",
       "  </tbody>\n",
       "</table>\n",
       "</div>"
      ],
      "text/plain": [
       "   Rank                   Name Platform    Year     Genre Publisher  NA_Sales  \\\n",
       "0     1             Wii Sports      Wii  2006.0    Sports  Nintendo     41.49   \n",
       "2     3         Mario Kart Wii      Wii  2008.0    Racing  Nintendo     15.85   \n",
       "3     4      Wii Sports Resort      Wii  2009.0    Sports  Nintendo     15.75   \n",
       "6     7  New Super Mario Bros.       DS  2006.0  Platform  Nintendo     11.38   \n",
       "7     8               Wii Play      Wii  2006.0      Misc  Nintendo     14.03   \n",
       "\n",
       "   EU_Sales  JP_Sales  Other_Sales  Global_Sales  \n",
       "0     29.02      3.77         8.46         82.74  \n",
       "2     12.88      3.79         3.31         35.82  \n",
       "3     11.01      3.28         2.96         33.00  \n",
       "6      9.23      6.50         2.90         30.01  \n",
       "7      9.20      2.93         2.85         29.02  "
      ]
     },
     "execution_count": 6,
     "metadata": {},
     "output_type": "execute_result"
    }
   ],
   "source": [
    "recent_game = vgs.loc[vgs[\"Year\"]>2000]\n",
    "recent_game.head()"
   ]
  },
  {
   "cell_type": "code",
   "execution_count": 7,
   "id": "0054cc99",
   "metadata": {},
   "outputs": [
    {
     "data": {
      "text/plain": [
       "<AxesSubplot:ylabel='Global_Sales'>"
      ]
     },
     "execution_count": 7,
     "metadata": {},
     "output_type": "execute_result"
    },
    {
     "data": {
      "image/png": "[encoded data removed]",
      "text/plain": [
       "<Figure size 1080x1080 with 1 Axes>"
      ]
     },
     "metadata": {},
     "output_type": "display_data"
    }
   ],
   "source": [
    "companies = recent_game.groupby(\"Publisher\").sum().sort_values(\"Global_Sales\",ascending=False)\n",
    "del companies[\"Year\"]\n",
    "del companies[\"Rank\"]\n",
    "top_tier = companies.loc[companies[\"Global_Sales\"]>50]\n",
    "top_tier.plot.pie(y=\"Global_Sales\",figsize=(15, 15))"
   ]
  },
  {
   "cell_type": "markdown",
   "id": "74ba355c",
   "metadata": {
    "id": "74ba355c"
   },
   "source": [
    "However, this chart conclude all sales from 2000 till now, to investigate the performance macroscopically, we want to know the flowing of sales over periods. \n",
    "\n",
    "Let's set the period to 4 years. We can divide the periods into 2000-2003, 2004-2008, 2009-2012, 2013-2016, respectively called q1,q2,q3,q4"
   ]
  },
  {
   "cell_type": "code",
   "execution_count": 8,
   "id": "78d23f2e",
   "metadata": {},
   "outputs": [],
   "source": [
    "q1 = recent_game.loc[recent_game[\"Year\"]<2004]\n",
    "\n",
    "q2 = recent_game.loc[recent_game[\"Year\"]<2009]\n",
    "q2 = q2.loc[recent_game[\"Year\"]>2003]\n",
    "\n",
    "q3 = recent_game.loc[recent_game[\"Year\"]>2008]\n",
    "q3 = q3.loc[recent_game[\"Year\"]<2013]\n",
    "\n",
    "q4 = recent_game.loc[recent_game[\"Year\"]>2012]"
   ]
  },
  {
   "cell_type": "code",
   "execution_count": 9,
   "id": "c619dc29",
   "metadata": {},
   "outputs": [],
   "source": [
    "company_q1 = q1.groupby(\"Publisher\").sum().sort_values(\"Global_Sales\",ascending=False).loc[:,[\"Global_Sales\"]]\n",
    "company_q2 = q2.groupby(\"Publisher\").sum().sort_values(\"Global_Sales\",ascending=False).loc[:,[\"Global_Sales\"]]\n",
    "company_q2 = q3.groupby(\"Publisher\").sum().sort_values(\"Global_Sales\",ascending=False).loc[:,[\"Global_Sales\"]]\n",
    "company_q4 = q4.groupby(\"Publisher\").sum().sort_values(\"Global_Sales\",ascending=False).loc[:,[\"Global_Sales\"]]"
   ]
  },
  {
   "cell_type": "code",
   "execution_count": 10,
   "id": "61a59e78",
   "metadata": {},
   "outputs": [
    {
     "data": {
      "text/html": [
       "<div>\n",
       "<style scoped>\n",
       "    .dataframe tbody tr th:only-of-type {\n",
       "        vertical-align: middle;\n",
       "    }\n",
       "\n",
       "    .dataframe tbody tr th {\n",
       "        vertical-align: top;\n",
       "    }\n",
       "\n",
       "    .dataframe thead th {\n",
       "        text-align: right;\n",
       "    }\n",
       "</style>\n",
       "<table border=\"1\" class=\"dataframe\">\n",
       "  <thead>\n",
       "    <tr style=\"text-align: right;\">\n",
       "      <th></th>\n",
       "      <th>Publisher</th>\n",
       "      <th>Global_Sales</th>\n",
       "    </tr>\n",
       "  </thead>\n",
       "  <tbody>\n",
       "    <tr>\n",
       "      <th>0</th>\n",
       "      <td>Electronic Arts</td>\n",
       "      <td>187.96</td>\n",
       "    </tr>\n",
       "    <tr>\n",
       "      <th>1</th>\n",
       "      <td>Nintendo</td>\n",
       "      <td>131.82</td>\n",
       "    </tr>\n",
       "    <tr>\n",
       "      <th>2</th>\n",
       "      <td>Sony Computer Entertainment</td>\n",
       "      <td>93.46</td>\n",
       "    </tr>\n",
       "    <tr>\n",
       "      <th>3</th>\n",
       "      <td>THQ</td>\n",
       "      <td>78.51</td>\n",
       "    </tr>\n",
       "    <tr>\n",
       "      <th>4</th>\n",
       "      <td>Activision</td>\n",
       "      <td>65.91</td>\n",
       "    </tr>\n",
       "    <tr>\n",
       "      <th>...</th>\n",
       "      <td>...</td>\n",
       "      <td>...</td>\n",
       "    </tr>\n",
       "    <tr>\n",
       "      <th>132</th>\n",
       "      <td>Princess Soft</td>\n",
       "      <td>0.02</td>\n",
       "    </tr>\n",
       "    <tr>\n",
       "      <th>133</th>\n",
       "      <td>King Records</td>\n",
       "      <td>0.02</td>\n",
       "    </tr>\n",
       "    <tr>\n",
       "      <th>134</th>\n",
       "      <td>JoWood Productions</td>\n",
       "      <td>0.02</td>\n",
       "    </tr>\n",
       "    <tr>\n",
       "      <th>135</th>\n",
       "      <td>Datam Polystar</td>\n",
       "      <td>0.02</td>\n",
       "    </tr>\n",
       "    <tr>\n",
       "      <th>136</th>\n",
       "      <td>Media Entertainment</td>\n",
       "      <td>0.01</td>\n",
       "    </tr>\n",
       "  </tbody>\n",
       "</table>\n",
       "<p>137 rows × 2 columns</p>\n",
       "</div>"
      ],
      "text/plain": [
       "                       Publisher  Global_Sales\n",
       "0                Electronic Arts        187.96\n",
       "1                       Nintendo        131.82\n",
       "2    Sony Computer Entertainment         93.46\n",
       "3                            THQ         78.51\n",
       "4                     Activision         65.91\n",
       "..                           ...           ...\n",
       "132                Princess Soft          0.02\n",
       "133                 King Records          0.02\n",
       "134           JoWood Productions          0.02\n",
       "135               Datam Polystar          0.02\n",
       "136          Media Entertainment          0.01\n",
       "\n",
       "[137 rows x 2 columns]"
      ]
     },
     "execution_count": 10,
     "metadata": {},
     "output_type": "execute_result"
    }
   ],
   "source": [
    "#draw a bump chart\n",
    "recent_companies = company_q1\n",
    "recent_companies = recent_companies.reset_index()\n",
    "recent_companies"
   ]
  },
  {
   "cell_type": "markdown",
   "id": "b280e7e3",
   "metadata": {},
   "source": [
    "CONLUSION HERE>"
   ]
  },
  {
   "cell_type": "markdown",
   "id": "5aec8b04",
   "metadata": {},
   "source": [
    "# The taste between players"
   ]
  },
  {
   "cell_type": "markdown",
   "id": "0e4186e6",
   "metadata": {
    "id": "0e4186e6"
   },
   "source": [
    "Question2: Is there a difference in consumer's preference throughout different regions?"
   ]
  },
  {
   "cell_type": "markdown",
   "id": "1c026063",
   "metadata": {
    "colab": {
     "base_uri": "https://localhost:8080/",
     "height": 227
    },
    "id": "7e8c11ac",
    "outputId": "f79cdb41-f940-42d6-e568-13bbaee3f55d"
   },
   "source": [
    "Let's first look at each different region "
   ]
  },
  {
   "cell_type": "code",
   "execution_count": 11,
   "id": "07e7e905",
   "metadata": {
    "colab": {
     "base_uri": "https://localhost:8080/",
     "height": 173
    },
    "id": "07e7e905",
    "outputId": "6044d35d-30af-44be-9026-745f5038abe4"
   },
   "outputs": [
    {
     "data": {
      "text/plain": [
       "<AxesSubplot:ylabel='NA_Sales'>"
      ]
     },
     "execution_count": 11,
     "metadata": {},
     "output_type": "execute_result"
    },
    {
     "data": {
      "image/png": "[encoded data removed]",
      "text/plain": [
       "<Figure size 576x576 with 1 Axes>"
      ]
     },
     "metadata": {},
     "output_type": "display_data"
    }
   ],
   "source": [
    "#NA\n",
    "NA_genre= vgs.groupby(\"Genre\")[\"NA_Sales\"].sum()\n",
    "NA_genre.plot.pie(figsize=(8, 8))"
   ]
  },
  {
   "cell_type": "code",
   "execution_count": 12,
   "id": "4f12afc9",
   "metadata": {
    "id": "4f12afc9"
   },
   "outputs": [
    {
     "data": {
      "text/plain": [
       "<AxesSubplot:ylabel='EU_Sales'>"
      ]
     },
     "execution_count": 12,
     "metadata": {},
     "output_type": "execute_result"
    },
    {
     "data": {
      "image/png": "[encoded data removed]",
      "text/plain": [
       "<Figure size 576x576 with 1 Axes>"
      ]
     },
     "metadata": {},
     "output_type": "display_data"
    }
   ],
   "source": [
    "#EU\n",
    "EU_genre = vgs.groupby(\"Genre\")[\"EU_Sales\"].sum()\n",
    "EU_genre.plot.pie(figsize=(8, 8))"
   ]
  },
  {
   "cell_type": "code",
   "execution_count": 13,
   "id": "a177efbc",
   "metadata": {
    "id": "a177efbc"
   },
   "outputs": [
    {
     "data": {
      "text/plain": [
       "<AxesSubplot:ylabel='JP_Sales'>"
      ]
     },
     "execution_count": 13,
     "metadata": {},
     "output_type": "execute_result"
    },
    {
     "data": {
      "image/png": "[encoded data removed]",
      "text/plain": [
       "<Figure size 576x576 with 1 Axes>"
      ]
     },
     "metadata": {},
     "output_type": "display_data"
    }
   ],
   "source": [
    "#JP\n",
    "JP_genre = vgs.groupby(\"Genre\")[\"JP_Sales\"].sum()\n",
    "JP_genre.plot.pie(figsize=(8, 8))"
   ]
  },
  {
   "cell_type": "code",
   "execution_count": 14,
   "id": "9ce12d59",
   "metadata": {
    "id": "9ce12d59"
   },
   "outputs": [
    {
     "data": {
      "text/plain": [
       "<AxesSubplot:ylabel='Other_Sales'>"
      ]
     },
     "execution_count": 14,
     "metadata": {},
     "output_type": "execute_result"
    },
    {
     "data": {
      "image/png": "[encoded data removed]",
      "text/plain": [
       "<Figure size 576x576 with 1 Axes>"
      ]
     },
     "metadata": {},
     "output_type": "display_data"
    }
   ],
   "source": [
    "#Other region\n",
    "OT_genre = vgs.groupby(\"Genre\")[\"Other_Sales\"].sum()\n",
    "OT_genre.plot.pie(figsize=(8, 8))"
   ]
  },
  {
   "cell_type": "markdown",
   "id": "897e43b8",
   "metadata": {},
   "source": [
    "After seeing every region's distribution, we have to compare the proportion of each type of games to see if a there's a dominated game genre around all regions. "
   ]
  },
  {
   "cell_type": "code",
   "execution_count": 27,
   "id": "1b5f5a16",
   "metadata": {},
   "outputs": [
    {
     "data": {
      "text/html": [
       "<div>\n",
       "<style scoped>\n",
       "    .dataframe tbody tr th:only-of-type {\n",
       "        vertical-align: middle;\n",
       "    }\n",
       "\n",
       "    .dataframe tbody tr th {\n",
       "        vertical-align: top;\n",
       "    }\n",
       "\n",
       "    .dataframe thead th {\n",
       "        text-align: right;\n",
       "    }\n",
       "</style>\n",
       "<table border=\"1\" class=\"dataframe\">\n",
       "  <thead>\n",
       "    <tr style=\"text-align: right;\">\n",
       "      <th></th>\n",
       "      <th>NA_Sales</th>\n",
       "      <th>EU_Sales</th>\n",
       "      <th>JP_Sales</th>\n",
       "      <th>Other_Sales</th>\n",
       "      <th>World_Average</th>\n",
       "    </tr>\n",
       "    <tr>\n",
       "      <th>Genre</th>\n",
       "      <th></th>\n",
       "      <th></th>\n",
       "      <th></th>\n",
       "      <th></th>\n",
       "      <th></th>\n",
       "    </tr>\n",
       "  </thead>\n",
       "  <tbody>\n",
       "    <tr>\n",
       "      <th>Action</th>\n",
       "      <td>0.199827</td>\n",
       "      <td>0.215683</td>\n",
       "      <td>0.123894</td>\n",
       "      <td>0.234886</td>\n",
       "      <td>0.193572</td>\n",
       "    </tr>\n",
       "    <tr>\n",
       "      <th>Sports</th>\n",
       "      <td>0.155556</td>\n",
       "      <td>0.154819</td>\n",
       "      <td>0.104855</td>\n",
       "      <td>0.169188</td>\n",
       "      <td>0.146105</td>\n",
       "    </tr>\n",
       "    <tr>\n",
       "      <th>Role-Playing</th>\n",
       "      <td>0.074501</td>\n",
       "      <td>0.077260</td>\n",
       "      <td>0.272893</td>\n",
       "      <td>0.074723</td>\n",
       "      <td>0.124844</td>\n",
       "    </tr>\n",
       "    <tr>\n",
       "      <th>Shooter</th>\n",
       "      <td>0.132622</td>\n",
       "      <td>0.128699</td>\n",
       "      <td>0.029651</td>\n",
       "      <td>0.128725</td>\n",
       "      <td>0.104924</td>\n",
       "    </tr>\n",
       "    <tr>\n",
       "      <th>Misc</th>\n",
       "      <td>0.093386</td>\n",
       "      <td>0.088730</td>\n",
       "      <td>0.083469</td>\n",
       "      <td>0.094416</td>\n",
       "      <td>0.090000</td>\n",
       "    </tr>\n",
       "    <tr>\n",
       "      <th>Platform</th>\n",
       "      <td>0.101765</td>\n",
       "      <td>0.082835</td>\n",
       "      <td>0.101292</td>\n",
       "      <td>0.064669</td>\n",
       "      <td>0.087640</td>\n",
       "    </tr>\n",
       "    <tr>\n",
       "      <th>Racing</th>\n",
       "      <td>0.081817</td>\n",
       "      <td>0.097936</td>\n",
       "      <td>0.043911</td>\n",
       "      <td>0.096860</td>\n",
       "      <td>0.080131</td>\n",
       "    </tr>\n",
       "    <tr>\n",
       "      <th>Fighting</th>\n",
       "      <td>0.050897</td>\n",
       "      <td>0.041625</td>\n",
       "      <td>0.067660</td>\n",
       "      <td>0.045979</td>\n",
       "      <td>0.051540</td>\n",
       "    </tr>\n",
       "    <tr>\n",
       "      <th>Simulation</th>\n",
       "      <td>0.041728</td>\n",
       "      <td>0.046579</td>\n",
       "      <td>0.049341</td>\n",
       "      <td>0.039511</td>\n",
       "      <td>0.044290</td>\n",
       "    </tr>\n",
       "    <tr>\n",
       "      <th>Adventure</th>\n",
       "      <td>0.024084</td>\n",
       "      <td>0.026346</td>\n",
       "      <td>0.040332</td>\n",
       "      <td>0.021072</td>\n",
       "      <td>0.027959</td>\n",
       "    </tr>\n",
       "    <tr>\n",
       "      <th>Puzzle</th>\n",
       "      <td>0.028177</td>\n",
       "      <td>0.020862</td>\n",
       "      <td>0.044391</td>\n",
       "      <td>0.015732</td>\n",
       "      <td>0.027290</td>\n",
       "    </tr>\n",
       "    <tr>\n",
       "      <th>Strategy</th>\n",
       "      <td>0.015639</td>\n",
       "      <td>0.018627</td>\n",
       "      <td>0.038311</td>\n",
       "      <td>0.014240</td>\n",
       "      <td>0.021704</td>\n",
       "    </tr>\n",
       "  </tbody>\n",
       "</table>\n",
       "</div>"
      ],
      "text/plain": [
       "              NA_Sales  EU_Sales  JP_Sales  Other_Sales  World_Average\n",
       "Genre                                                                 \n",
       "Action        0.199827  0.215683  0.123894     0.234886       0.193572\n",
       "Sports        0.155556  0.154819  0.104855     0.169188       0.146105\n",
       "Role-Playing  0.074501  0.077260  0.272893     0.074723       0.124844\n",
       "Shooter       0.132622  0.128699  0.029651     0.128725       0.104924\n",
       "Misc          0.093386  0.088730  0.083469     0.094416       0.090000\n",
       "Platform      0.101765  0.082835  0.101292     0.064669       0.087640\n",
       "Racing        0.081817  0.097936  0.043911     0.096860       0.080131\n",
       "Fighting      0.050897  0.041625  0.067660     0.045979       0.051540\n",
       "Simulation    0.041728  0.046579  0.049341     0.039511       0.044290\n",
       "Adventure     0.024084  0.026346  0.040332     0.021072       0.027959\n",
       "Puzzle        0.028177  0.020862  0.044391     0.015732       0.027290\n",
       "Strategy      0.015639  0.018627  0.038311     0.014240       0.021704"
      ]
     },
     "execution_count": 27,
     "metadata": {},
     "output_type": "execute_result"
    },
    {
     "data": {
      "image/png": "[encoded data removed]",
      "text/plain": [
       "<Figure size 1440x720 with 1 Axes>"
      ]
     },
     "metadata": {
      "needs_background": "light"
     },
     "output_type": "display_data"
    }
   ],
   "source": [
    "NA_genre_por = NA_genre/NA_genre.sum()\n",
    "EU_genre_por = EU_genre/EU_genre.sum()\n",
    "JP_genre_por = JP_genre/JP_genre.sum()\n",
    "OT_genre_por = OT_genre/OT_genre.sum()\n",
    "world_genre = NA_genre_por.to_frame().join(EU_genre_por).join(JP_genre_por).join(OT_genre_por)\n",
    "world_genre[\"World_Average\"]=(world_genre[\"NA_Sales\"]+world_genre[\"EU_Sales\"]+world_genre[\"JP_Sales\"]+world_genre[\"Other_Sales\"])/4\n",
    "world_genre.plot.bar(alpha=0.8,figsize = (20,10))\n",
    "world_genre.sort_values(\"World_Average\",ascending=False)"
   ]
  },
  {
   "cell_type": "markdown",
   "id": "4ece15c8",
   "metadata": {},
   "source": [
    "That's very clear that what people in different region prefers.\n",
    "\n",
    "Some conclusion:\n",
    "\n",
    "1) Action Game(0.194) seems to be generally the most favored genre all around, second is sports(0.146) and third is role-playing(0.125)\n",
    "\n",
    "3) Most minority types of game: Adventure(0.0280), Puzzle(0.0273), Strategy(0.0217). Reason perhaps will be the hardcore playing style.\n",
    "\n",
    "2) Japaness people are indeed obsessed with the Role-playing, this might lead by the well-development of JRPG"
   ]
  },
  {
   "cell_type": "markdown",
   "id": "92b8a846",
   "metadata": {
    "id": "92b8a846"
   },
   "source": [
    "### Data Set 2: Steam database"
   ]
  },
  {
   "cell_type": "markdown",
   "id": "993e370e",
   "metadata": {
    "id": "993e370e"
   },
   "source": [
    "First, we scrap and generate the dataframe using several pandas functions"
   ]
  },
  {
   "cell_type": "code",
   "execution_count": null,
   "id": "1f90cf7e",
   "metadata": {
    "id": "1f90cf7e"
   },
   "outputs": [],
   "source": [
    "header = {'User-Agent': 'Mozilla/5.0 (Macintosh; Intel Mac OS X 10_10_1) AppleWebKit/537.36 (KHTML, like Gecko) Chrome/39.0.2171.95 Safari/537.36'}\n",
    "response = requests.get('https://store.steampowered.com/stats/',headers=header)\n",
    "resource = response.text"
   ]
  },
  {
   "cell_type": "code",
   "execution_count": null,
   "id": "8303f47f",
   "metadata": {
    "id": "8303f47f"
   },
   "outputs": [],
   "source": [
    "souped_resource = BeautifulSoup(resource,\"html.parser\")\n",
    "prettify_resource = BeautifulSoup.prettify(souped_resource)\n",
    "soup = BeautifulSoup(prettify_resource)\n",
    "table_found = soup.find(\"div\",{'id' : \"detailStats\"})"
   ]
  },
  {
   "cell_type": "code",
   "execution_count": null,
   "id": "7y5qfSAJBn7p",
   "metadata": {
    "id": "7y5qfSAJBn7p"
   },
   "outputs": [],
   "source": [
    "table_found = re.sub(\"display: none;\",'',str(table_found))"
   ]
  },
  {
   "cell_type": "code",
   "execution_count": null,
   "id": "0dc0d723",
   "metadata": {
    "id": "0dc0d723"
   },
   "outputs": [],
   "source": [
    "table = pd.read_html(str(table_found))"
   ]
  },
  {
   "cell_type": "code",
   "execution_count": null,
   "id": "ca528dd6",
   "metadata": {
    "id": "ca528dd6"
   },
   "outputs": [],
   "source": [
    "df_steam = pd.DataFrame(table[0])"
   ]
  },
  {
   "cell_type": "code",
   "execution_count": null,
   "id": "ebc5a4b9",
   "metadata": {
    "id": "ebc5a4b9"
   },
   "outputs": [],
   "source": [
    "df_steam"
   ]
  },
  {
   "cell_type": "code",
   "execution_count": null,
   "id": "65729dad",
   "metadata": {
    "id": "65729dad"
   },
   "outputs": [],
   "source": [
    "df_steam = df_steam.loc[2:]"
   ]
  },
  {
   "cell_type": "code",
   "execution_count": null,
   "id": "4ef09471",
   "metadata": {
    "id": "4ef09471"
   },
   "outputs": [],
   "source": [
    "#drop blank columns\n",
    "df_steam =df_steam.drop(columns = 2)\n",
    "df_steam =df_steam.drop(columns = 4)"
   ]
  },
  {
   "cell_type": "code",
   "execution_count": null,
   "id": "81b5c988",
   "metadata": {
    "id": "81b5c988"
   },
   "outputs": [],
   "source": [
    "#Set the columns index\n",
    "df_steam.columns=['Current Players','Peak Today','Game']"
   ]
  },
  {
   "cell_type": "code",
   "execution_count": null,
   "id": "H-0oJ7DF7EQJ",
   "metadata": {
    "id": "H-0oJ7DF7EQJ"
   },
   "outputs": [],
   "source": [
    "#set the name of the games throughtout all database the same \n",
    "df_steam['Game'][5] = 'PLAYERUNKNOWN\\'S BATTLEGROUNDS'"
   ]
  },
  {
   "cell_type": "code",
   "execution_count": null,
   "id": "e55cec7a",
   "metadata": {
    "id": "e55cec7a"
   },
   "outputs": [],
   "source": [
    "df_steam"
   ]
  },
  {
   "cell_type": "markdown",
   "id": "vRYHjYKpPO2T",
   "metadata": {
    "id": "vRYHjYKpPO2T"
   },
   "source": [
    "### Data Set 3: Previous players count for games on steam\n"
   ]
  },
  {
   "cell_type": "code",
   "execution_count": null,
   "id": "NK52QgIfV3oK",
   "metadata": {
    "id": "NK52QgIfV3oK"
   },
   "outputs": [],
   "source": [
    "# Read the csv file\n",
    "df_previous_user = pd.read_csv(\"/content/drive/MyDrive/Colab Notebooks/SteamCharts.csv\",encoding='latin1')\n",
    "df_previous_user"
   ]
  },
  {
   "cell_type": "markdown",
   "id": "Ukh89WA0kH06",
   "metadata": {
    "id": "Ukh89WA0kH06"
   },
   "source": [
    "---"
   ]
  },
  {
   "cell_type": "markdown",
   "id": "ZUYIN2SukXEg",
   "metadata": {
    "id": "ZUYIN2SukXEg"
   },
   "source": [
    "## Find out the data we need from different datasets"
   ]
  },
  {
   "cell_type": "markdown",
   "id": "4lR9oHRdVuZi",
   "metadata": {
    "id": "4lR9oHRdVuZi"
   },
   "source": [
    "For this part, we are going to find the ranking of top 100 games from 2016 till present.  \n",
    "Afterwards, we will see the change on rankings and possibly find out a trend and the average years a game can be considered popular.  \n",
    "In this part popular is defined as the number of players is in top 100\n",
    "\n",
    "\n"
   ]
  },
  {
   "cell_type": "markdown",
   "id": "C4LJI5gzmu-5",
   "metadata": {
    "id": "C4LJI5gzmu-5"
   },
   "source": [
    "### A little formatting stuff for the scraped dataframe"
   ]
  },
  {
   "cell_type": "code",
   "execution_count": null,
   "id": "a_b6xnBYFEXt",
   "metadata": {
    "id": "a_b6xnBYFEXt"
   },
   "outputs": [],
   "source": [
    "df_steam_now = df_steam"
   ]
  },
  {
   "cell_type": "code",
   "execution_count": null,
   "id": "pnDvFMfOpcYB",
   "metadata": {
    "id": "pnDvFMfOpcYB"
   },
   "outputs": [],
   "source": [
    "df_steam_now = df_steam_now.reset_index(drop = True)"
   ]
  },
  {
   "cell_type": "code",
   "execution_count": null,
   "id": "-RpInUwiV3qW",
   "metadata": {
    "id": "-RpInUwiV3qW"
   },
   "outputs": [],
   "source": [
    "# Add two columns:Year and Ranking for the data we scraped from steam(which is the present ranking)\n",
    "i = 0\n",
    "df_steam_now['Year'] = 2021\n",
    "df_steam_now['Ranking'] = np.nan\n",
    "for i in range(len(df_steam_now['Ranking'])):\n",
    "  df_steam_now['Ranking'][i] = int(i+1)"
   ]
  },
  {
   "cell_type": "code",
   "execution_count": null,
   "id": "4SXNDA_9V3sb",
   "metadata": {
    "id": "4SXNDA_9V3sb"
   },
   "outputs": [],
   "source": [
    "df_steam_now"
   ]
  },
  {
   "cell_type": "code",
   "execution_count": null,
   "id": "iQlgXXHnqNUd",
   "metadata": {
    "id": "iQlgXXHnqNUd"
   },
   "outputs": [],
   "source": [
    "# drop Current Players and Peak Today as we don't need to compare these data later on\n",
    "top_game = df_steam_now\n",
    "del top_game['Current Players']\n",
    "del top_game['Peak Today']\n",
    "\n",
    "#set the index of top_game the same as df_previous_user\n",
    "top_game.rename({'Game': 'gamename', 'Year': 'year'}, axis=1, inplace=True)\n",
    "top_game"
   ]
  },
  {
   "cell_type": "markdown",
   "id": "HyUQEhwfPcXV",
   "metadata": {
    "id": "HyUQEhwfPcXV"
   },
   "source": [
    "### Collect data from all database"
   ]
  },
  {
   "cell_type": "markdown",
   "id": "xTKPA23hnkIE",
   "metadata": {
    "id": "xTKPA23hnkIE"
   },
   "source": [
    "For previous ranking, we are ranking them based on the average players."
   ]
  },
  {
   "cell_type": "markdown",
   "id": "kFQFiNeUn4t3",
   "metadata": {
    "id": "kFQFiNeUn4t3"
   },
   "source": [
    "#### 2020 Ranking"
   ]
  },
  {
   "cell_type": "code",
   "execution_count": null,
   "id": "DNrFRzbOrqVB",
   "metadata": {
    "id": "DNrFRzbOrqVB"
   },
   "outputs": [],
   "source": [
    "data_2020 = df_previous_user.loc[(df_previous_user['year']==2020) & (df_previous_user['month']==\"November \")]\n",
    "\n",
    "#delete unrelated columns\n",
    "del data_2020['gain']\n",
    "del data_2020['peak']\n",
    "del data_2020['avg_peak_perc']\n",
    "del data_2020['month']\n",
    "\n",
    "#sort by average players\n",
    "data_2020 = data_2020.sort_values(by=['avg'],ascending= False)\n",
    "\n",
    "#find top 100\n",
    "data_2020 = data_2020[:100]\n",
    "\n",
    "#reset index\n",
    "data_2020 = data_2020.reset_index(drop= True)\n",
    "\n",
    "#set ranking\n",
    "i = 0\n",
    "data_2020['Ranking'] = np.nan\n",
    "for i in range(len(data_2020['Ranking'])):\n",
    "  data_2020['Ranking'][i] = int(i+1)\n",
    "\n",
    "# delete average players\n",
    "del data_2020['avg']"
   ]
  },
  {
   "cell_type": "code",
   "execution_count": null,
   "id": "nsyR9vqBC3MP",
   "metadata": {
    "id": "nsyR9vqBC3MP"
   },
   "outputs": [],
   "source": [
    "#append to top_game\n",
    "top_game = top_game.append(data_2020)"
   ]
  },
  {
   "cell_type": "markdown",
   "id": "1rZU2XxwoFJz",
   "metadata": {
    "id": "1rZU2XxwoFJz"
   },
   "source": [
    "#### 2019 Ranking"
   ]
  },
  {
   "cell_type": "code",
   "execution_count": null,
   "id": "WWWghvENyJt2",
   "metadata": {
    "id": "WWWghvENyJt2"
   },
   "outputs": [],
   "source": [
    "data_2019 = df_previous_user.loc[(df_previous_user['year']==2019) & (df_previous_user['month']==\"November \")]\n",
    "\n",
    "#delete unrelated columns\n",
    "del data_2019['gain']\n",
    "del data_2019['peak']\n",
    "del data_2019['avg_peak_perc']\n",
    "del data_2019['month']\n",
    "\n",
    "#sort by average players\n",
    "data_2019 = data_2019.sort_values(by=['avg'],ascending= False)\n",
    "\n",
    "#find top 100\n",
    "data_2019 = data_2019[:100]\n",
    "\n",
    "#reset index\n",
    "data_2019 = data_2019.reset_index(drop= True)\n",
    "\n",
    "#set ranking\n",
    "i = 0\n",
    "data_2019['Ranking'] = np.nan\n",
    "for i in range(len(data_2019['Ranking'])):\n",
    "  data_2019['Ranking'][i] = int(i+1)\n",
    "\n",
    "# delete average players\n",
    "del data_2019['avg']"
   ]
  },
  {
   "cell_type": "code",
   "execution_count": null,
   "id": "RDP8xLAKxcpA",
   "metadata": {
    "id": "RDP8xLAKxcpA"
   },
   "outputs": [],
   "source": [
    "#append to top_game\n",
    "top_game = top_game.append(data_2019)"
   ]
  },
  {
   "cell_type": "markdown",
   "id": "7fqeZed-oH1I",
   "metadata": {
    "id": "7fqeZed-oH1I"
   },
   "source": [
    "#### 2018 Ranking"
   ]
  },
  {
   "cell_type": "code",
   "execution_count": null,
   "id": "8FMoKTHK4J-S",
   "metadata": {
    "id": "8FMoKTHK4J-S"
   },
   "outputs": [],
   "source": [
    "data_2018 = df_previous_user.loc[(df_previous_user['year']==2018) & (df_previous_user['month']==\"November \")]\n",
    "\n",
    "#delete unrelated columns\n",
    "del data_2018['gain']\n",
    "del data_2018['peak']\n",
    "del data_2018['avg_peak_perc']\n",
    "del data_2018['month']\t\n",
    "\n",
    "#sort by average players\n",
    "data_2018 = data_2018.sort_values(by=['avg'],ascending= False)\n",
    "\n",
    "#find top 100\n",
    "data_2018 = data_2018[:100]\n",
    "\n",
    "#reset index\n",
    "data_2018 = data_2018.reset_index(drop= True)\n",
    "\n",
    "#set ranking\n",
    "i = 0\n",
    "data_2018['Ranking'] = np.nan\n",
    "for i in range(len(data_2018['Ranking'])):\n",
    "  data_2018['Ranking'][i] = int(i+1)\n",
    "\n",
    "# delete average players\n",
    "del data_2018['avg']\n",
    "data_2018"
   ]
  },
  {
   "cell_type": "code",
   "execution_count": null,
   "id": "ADifl1F8xgFD",
   "metadata": {
    "id": "ADifl1F8xgFD"
   },
   "outputs": [],
   "source": [
    "#append to top_game\n",
    "top_game = top_game.append(data_2018)\n",
    "top_game = top_game.reset_index(drop = True)"
   ]
  },
  {
   "cell_type": "markdown",
   "id": "1ZE6jmTqoKh9",
   "metadata": {
    "id": "1ZE6jmTqoKh9"
   },
   "source": [
    "#### 2017 Ranking"
   ]
  },
  {
   "cell_type": "code",
   "execution_count": null,
   "id": "PmsomppB6p1z",
   "metadata": {
    "id": "PmsomppB6p1z"
   },
   "outputs": [],
   "source": [
    "data_2017 = df_previous_user.loc[(df_previous_user['year']==2017) & (df_previous_user['month']==\"November \")]\n",
    "\n",
    "#delete unrelated columns\n",
    "del data_2017['gain']\n",
    "del data_2017['peak']\n",
    "del data_2017['avg_peak_perc']\n",
    "del data_2017['month']\t\n",
    "\n",
    "#sort by average players\n",
    "data_2017 = data_2017.sort_values(by=['avg'],ascending= False)\n",
    "\n",
    "#find top 100\n",
    "data_2017 = data_2017[:100]\n",
    "\n",
    "#reset index\n",
    "data_2017 = data_2017.reset_index(drop= True)\n",
    "\n",
    "#set ranking\n",
    "i = 0\n",
    "data_2017['Ranking'] = np.nan\n",
    "for i in range(len(data_2017['Ranking'])):\n",
    "  data_2017['Ranking'][i] = int(i+1)\n",
    "\n",
    "# delete average players\n",
    "del data_2017['avg']\n"
   ]
  },
  {
   "cell_type": "code",
   "execution_count": null,
   "id": "ex_Jr_1C7xG0",
   "metadata": {
    "id": "ex_Jr_1C7xG0"
   },
   "outputs": [],
   "source": [
    "top_game = top_game.append(data_2017)\n",
    "top_game = top_game.reset_index(drop = True)"
   ]
  },
  {
   "cell_type": "markdown",
   "id": "fvxbYX5NoNvI",
   "metadata": {
    "id": "fvxbYX5NoNvI"
   },
   "source": [
    "#### 2016 Ranking"
   ]
  },
  {
   "cell_type": "code",
   "execution_count": null,
   "id": "RPsCTlBH7yQm",
   "metadata": {
    "id": "RPsCTlBH7yQm"
   },
   "outputs": [],
   "source": [
    "data_2016 = df_previous_user.loc[(df_previous_user['year']==2016) & (df_previous_user['month']==\"November \")]\n",
    "\n",
    "#delete unrelated columns\n",
    "del data_2016['gain']\n",
    "del data_2016['peak']\n",
    "del data_2016['avg_peak_perc']\n",
    "del data_2016['month']\t\n",
    "\n",
    "#sort by average players\n",
    "data_2016 = data_2016.sort_values(by=['avg'],ascending= False)\n",
    "\n",
    "#find top 100\n",
    "data_2016 = data_2016[:100]\n",
    "\n",
    "#reset index\n",
    "data_2016 = data_2016.reset_index(drop= True)\n",
    "\n",
    "#set ranking\n",
    "i = 0\n",
    "data_2016['Ranking'] = np.nan\n",
    "for i in range(len(data_2016['Ranking'])):\n",
    "  data_2016['Ranking'][i] = int(i+1)\n",
    "\n",
    "# delete average players\n",
    "del data_2016['avg']\n"
   ]
  },
  {
   "cell_type": "code",
   "execution_count": null,
   "id": "vOtPKejv7yTe",
   "metadata": {
    "id": "vOtPKejv7yTe"
   },
   "outputs": [],
   "source": [
    "top_game = top_game.append(data_2016)\n",
    "top_game = top_game.reset_index(drop = True)"
   ]
  },
  {
   "cell_type": "code",
   "execution_count": null,
   "id": "YCqZLFXsFcd4",
   "metadata": {
    "id": "YCqZLFXsFcd4"
   },
   "outputs": [],
   "source": [
    "top_game"
   ]
  },
  {
   "cell_type": "markdown",
   "id": "xs9h0YzboRSk",
   "metadata": {
    "id": "xs9h0YzboRSk"
   },
   "source": [
    "### Generating a bump chart from top_game"
   ]
  },
  {
   "cell_type": "markdown",
   "id": "T8WeHypBol35",
   "metadata": {
    "id": "T8WeHypBol35"
   },
   "source": [
    "We found the way to generate a bumpp chart in pandas from the website: https://stackoverflow.com/questions/68095438/how-to-make-a-bump-chart"
   ]
  },
  {
   "cell_type": "code",
   "execution_count": null,
   "id": "ZfzmBmJdGNn6",
   "metadata": {
    "id": "ZfzmBmJdGNn6"
   },
   "outputs": [],
   "source": [
    "#making a bump chart\n",
    "import matplotlib.pyplot as plt\n",
    "plt.rcParams[\"figure.figsize\"] = (50, 25)\n",
    "for i, j in top_game.groupby(\"gamename\"):\n",
    "    plt.plot( \"year\", \"Ranking\",\"o-\", data=j, mfc=\"w\")\n",
    "plt.ylim(0, 20)\n",
    "plt.gca().invert_yaxis()\n",
    "#the graph still needs improvement for better visualization"
   ]
  },
  {
   "cell_type": "markdown",
   "id": "VLH_0Rii7uqN",
   "metadata": {
    "id": "VLH_0Rii7uqN"
   },
   "source": [
    "From the graph, we should be able to see how the ranking change from 2016 till present.  \n",
    "We will then utilize the database to calculate the average lifetime of a game.\n",
    "With the conclusion we get from the project, it would be meaningful for video game companies to set a timeline for the production and announcement of their products"
   ]
  },
  {
   "cell_type": "markdown",
   "id": "qwmTcE0_7uwL",
   "metadata": {
    "id": "qwmTcE0_7uwL"
   },
   "source": []
  },
  {
   "cell_type": "markdown",
   "id": "OZz3__9I7uz1",
   "metadata": {
    "id": "OZz3__9I7uz1"
   },
   "source": []
  }
 ],
 "metadata": {
  "colab": {
   "name": "Milestone 1.ipynb",
   "provenance": [],
   "toc_visible": true
  },
  "kernelspec": {
   "display_name": "Python 3",
   "language": "python",
   "name": "python3"
  },
  "language_info": {
   "codemirror_mode": {
    "name": "ipython",
    "version": 3
   },
   "file_extension": ".py",
   "mimetype": "text/x-python",
   "name": "python",
   "nbconvert_exporter": "python",
   "pygments_lexer": "ipython3",
   "version": "3.6.13"
  }
 },
 "nbformat": 4,
 "nbformat_minor": 5
}
